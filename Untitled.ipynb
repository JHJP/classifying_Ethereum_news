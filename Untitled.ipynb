{
 "cells": [
  {
   "cell_type": "code",
   "execution_count": 1,
   "id": "bac94050",
   "metadata": {},
   "outputs": [],
   "source": [
    "from requests_html import HTMLSession\n",
    "import pandas as pd\n",
    "import numpy as np\n",
    "from nltk.tokenize import word_tokenize\n",
    "from nltk import pos_tag\n",
    "from nltk.corpus import stopwords\n",
    "from nltk.stem import WordNetLemmatizer\n",
    "from sklearn.preprocessing import LabelEncoder\n",
    "from collections import defaultdict\n",
    "from nltk.corpus import wordnet as wn\n",
    "from sklearn.feature_extraction.text import TfidfVectorizer\n",
    "from sklearn import svm\n",
    "from sklearn.metrics import accuracy_score"
   ]
  },
  {
   "cell_type": "code",
   "execution_count": 117,
   "id": "90e92733",
   "metadata": {},
   "outputs": [],
   "source": [
    "Corpus = pd.read_csv (r'all-data.csv', encoding='latin-1')"
   ]
  },
  {
   "cell_type": "code",
   "execution_count": 118,
   "id": "fa833761",
   "metadata": {},
   "outputs": [],
   "source": [
    "Corpus.columns = ['status', 'text']"
   ]
  },
  {
   "cell_type": "code",
   "execution_count": 119,
   "id": "297e87d8",
   "metadata": {},
   "outputs": [
    {
     "data": {
      "text/html": [
       "<div>\n",
       "<style scoped>\n",
       "    .dataframe tbody tr th:only-of-type {\n",
       "        vertical-align: middle;\n",
       "    }\n",
       "\n",
       "    .dataframe tbody tr th {\n",
       "        vertical-align: top;\n",
       "    }\n",
       "\n",
       "    .dataframe thead th {\n",
       "        text-align: right;\n",
       "    }\n",
       "</style>\n",
       "<table border=\"1\" class=\"dataframe\">\n",
       "  <thead>\n",
       "    <tr style=\"text-align: right;\">\n",
       "      <th></th>\n",
       "      <th>status</th>\n",
       "      <th>text</th>\n",
       "    </tr>\n",
       "  </thead>\n",
       "  <tbody>\n",
       "    <tr>\n",
       "      <th>4840</th>\n",
       "      <td>negative</td>\n",
       "      <td>LONDON MarketWatch -- Share prices ended lower...</td>\n",
       "    </tr>\n",
       "    <tr>\n",
       "      <th>4841</th>\n",
       "      <td>neutral</td>\n",
       "      <td>Rinkuskiai 's beer sales fell by 6.5 per cent ...</td>\n",
       "    </tr>\n",
       "    <tr>\n",
       "      <th>4842</th>\n",
       "      <td>negative</td>\n",
       "      <td>Operating profit fell to EUR 35.4 mn from EUR ...</td>\n",
       "    </tr>\n",
       "    <tr>\n",
       "      <th>4843</th>\n",
       "      <td>negative</td>\n",
       "      <td>Net sales of the Paper segment decreased to EU...</td>\n",
       "    </tr>\n",
       "    <tr>\n",
       "      <th>4844</th>\n",
       "      <td>negative</td>\n",
       "      <td>Sales in Finland decreased by 10.5 % in Januar...</td>\n",
       "    </tr>\n",
       "  </tbody>\n",
       "</table>\n",
       "</div>"
      ],
      "text/plain": [
       "        status                                               text\n",
       "4840  negative  LONDON MarketWatch -- Share prices ended lower...\n",
       "4841   neutral  Rinkuskiai 's beer sales fell by 6.5 per cent ...\n",
       "4842  negative  Operating profit fell to EUR 35.4 mn from EUR ...\n",
       "4843  negative  Net sales of the Paper segment decreased to EU...\n",
       "4844  negative  Sales in Finland decreased by 10.5 % in Januar..."
      ]
     },
     "execution_count": 119,
     "metadata": {},
     "output_type": "execute_result"
    }
   ],
   "source": [
    "Corpus.tail()"
   ]
  },
  {
   "cell_type": "code",
   "execution_count": 120,
   "id": "37852dfe",
   "metadata": {},
   "outputs": [],
   "source": [
    "Corpus = Corpus.dropna()"
   ]
  },
  {
   "cell_type": "code",
   "execution_count": 121,
   "id": "b4ca78a3",
   "metadata": {},
   "outputs": [],
   "source": [
    "np.random.seed(500)"
   ]
  },
  {
   "cell_type": "code",
   "execution_count": 122,
   "id": "3ce63e3a",
   "metadata": {},
   "outputs": [
    {
     "name": "stdout",
     "output_type": "stream",
     "text": [
      "<class 'pandas.core.frame.DataFrame'>\n",
      "Int64Index: 4845 entries, 0 to 4844\n",
      "Data columns (total 2 columns):\n",
      " #   Column  Non-Null Count  Dtype \n",
      "---  ------  --------------  ----- \n",
      " 0   status  4845 non-null   object\n",
      " 1   text    4845 non-null   object\n",
      "dtypes: object(2)\n",
      "memory usage: 113.6+ KB\n"
     ]
    }
   ],
   "source": [
    "Corpus.info()"
   ]
  },
  {
   "cell_type": "code",
   "execution_count": 123,
   "id": "6f56bacc",
   "metadata": {},
   "outputs": [],
   "source": [
    "# dataset 전처리 : inplace=true로 함으로써 Corpus 자체에 저장\n",
    "Corpus['text'].dropna(inplace=True)\n",
    "# dataset 전처리 : text를 소문자로 변환\n",
    "Corpus['text'] = [entry.lower() for entry in Corpus['text']]"
   ]
  },
  {
   "cell_type": "code",
   "execution_count": 125,
   "id": "7bdef85a",
   "metadata": {},
   "outputs": [],
   "source": [
    "# dataset 전처리 : 각 텍스트 행에 대해 단어, 구, 등 의미있는 단위로 분할(토큰화)\n",
    "Corpus['text']= [word_tokenize(entry) for entry in Corpus['text']]"
   ]
  },
  {
   "cell_type": "code",
   "execution_count": 129,
   "id": "53cf6b53",
   "metadata": {},
   "outputs": [],
   "source": [
    "# lemmenting/steming(문맥에 따른 어근분류)을 위한 전 과정 - wordnet(wn)에 명사,\n",
    "# 형용사, 동사, 부사 태그 추가\n",
    "tag_map = defaultdict(lambda : wn.NOUN)\n",
    "tag_map['J'] = wn.ADJ\n",
    "tag_map['V'] = wn.VERB\n",
    "tag_map['R'] = wn.ADV"
   ]
  },
  {
   "cell_type": "code",
   "execution_count": 130,
   "id": "88b23787",
   "metadata": {},
   "outputs": [],
   "source": [
    "# 자연어처리 : text 열의 각 행에 대한 토큰을 문맥에 따라 어근으로 분류하고 \n",
    "# text_final열에 추가\n",
    "for index,entry in enumerate(Corpus['text']):\n",
    "    # 저장될 리스트 생성\n",
    "    Final_words = []\n",
    "    # WordNetLemmatizer() 초기화\n",
    "    word_Lemmatized = WordNetLemmatizer()\n",
    "    # nltk의 pos_tag함수를 통해 각각의 토큰에 대한 태그를 출력\n",
    "    #(태그=명사(N), 형용사(J), 동사(V), 부사(R))  \n",
    "    for word, tag in pos_tag(entry):\n",
    "        # 각각의 토큰이 stop word(a, the, is, are 등)이고 문자이면 리스트에 추가\n",
    "        if word not in stopwords.words('english') and word.isalpha():\n",
    "            word_Final = word_Lemmatized.lemmatize(word,tag_map[tag[0]])\n",
    "            Final_words.append(word_Final)\n",
    "    # Corpus의 새로운 열 text_final에 생성된 리스트 추가(태그에 해당하면 추가)\n",
    "    Corpus.loc[index,'text_final'] = str(Final_words)"
   ]
  },
  {
   "cell_type": "code",
   "execution_count": 132,
   "id": "089f56c2",
   "metadata": {},
   "outputs": [],
   "source": [
    "Corpus = Corpus.drop(Corpus[Corpus.status == 'neutral'].index)"
   ]
  },
  {
   "cell_type": "code",
   "execution_count": 133,
   "id": "daf6440b",
   "metadata": {},
   "outputs": [
    {
     "data": {
      "text/html": [
       "<div>\n",
       "<style scoped>\n",
       "    .dataframe tbody tr th:only-of-type {\n",
       "        vertical-align: middle;\n",
       "    }\n",
       "\n",
       "    .dataframe tbody tr th {\n",
       "        vertical-align: top;\n",
       "    }\n",
       "\n",
       "    .dataframe thead th {\n",
       "        text-align: right;\n",
       "    }\n",
       "</style>\n",
       "<table border=\"1\" class=\"dataframe\">\n",
       "  <thead>\n",
       "    <tr style=\"text-align: right;\">\n",
       "      <th></th>\n",
       "      <th>status</th>\n",
       "      <th>text</th>\n",
       "      <th>text_final</th>\n",
       "    </tr>\n",
       "  </thead>\n",
       "  <tbody>\n",
       "    <tr>\n",
       "      <th>4839</th>\n",
       "      <td>negative</td>\n",
       "      <td>[helsinki, thomson, financial, -, shares, in, ...</td>\n",
       "      <td>['helsinki', 'thomson', 'financial', 'share', ...</td>\n",
       "    </tr>\n",
       "    <tr>\n",
       "      <th>4840</th>\n",
       "      <td>negative</td>\n",
       "      <td>[london, marketwatch, --, share, prices, ended...</td>\n",
       "      <td>['london', 'marketwatch', 'share', 'price', 'e...</td>\n",
       "    </tr>\n",
       "    <tr>\n",
       "      <th>4842</th>\n",
       "      <td>negative</td>\n",
       "      <td>[operating, profit, fell, to, eur, 35.4, mn, f...</td>\n",
       "      <td>['operating', 'profit', 'fell', 'eur', 'mn', '...</td>\n",
       "    </tr>\n",
       "    <tr>\n",
       "      <th>4843</th>\n",
       "      <td>negative</td>\n",
       "      <td>[net, sales, of, the, paper, segment, decrease...</td>\n",
       "      <td>['net', 'sale', 'paper', 'segment', 'decrease'...</td>\n",
       "    </tr>\n",
       "    <tr>\n",
       "      <th>4844</th>\n",
       "      <td>negative</td>\n",
       "      <td>[sales, in, finland, decreased, by, 10.5, %, i...</td>\n",
       "      <td>['sale', 'finland', 'decrease', 'january', 'sa...</td>\n",
       "    </tr>\n",
       "  </tbody>\n",
       "</table>\n",
       "</div>"
      ],
      "text/plain": [
       "        status                                               text  \\\n",
       "4839  negative  [helsinki, thomson, financial, -, shares, in, ...   \n",
       "4840  negative  [london, marketwatch, --, share, prices, ended...   \n",
       "4842  negative  [operating, profit, fell, to, eur, 35.4, mn, f...   \n",
       "4843  negative  [net, sales, of, the, paper, segment, decrease...   \n",
       "4844  negative  [sales, in, finland, decreased, by, 10.5, %, i...   \n",
       "\n",
       "                                             text_final  \n",
       "4839  ['helsinki', 'thomson', 'financial', 'share', ...  \n",
       "4840  ['london', 'marketwatch', 'share', 'price', 'e...  \n",
       "4842  ['operating', 'profit', 'fell', 'eur', 'mn', '...  \n",
       "4843  ['net', 'sale', 'paper', 'segment', 'decrease'...  \n",
       "4844  ['sale', 'finland', 'decrease', 'january', 'sa...  "
      ]
     },
     "execution_count": 133,
     "metadata": {},
     "output_type": "execute_result"
    }
   ],
   "source": [
    "Corpus.tail()"
   ]
  },
  {
   "cell_type": "code",
   "execution_count": 134,
   "id": "ef50b9b4",
   "metadata": {},
   "outputs": [
    {
     "data": {
      "text/html": [
       "<div>\n",
       "<style scoped>\n",
       "    .dataframe tbody tr th:only-of-type {\n",
       "        vertical-align: middle;\n",
       "    }\n",
       "\n",
       "    .dataframe tbody tr th {\n",
       "        vertical-align: top;\n",
       "    }\n",
       "\n",
       "    .dataframe thead th {\n",
       "        text-align: right;\n",
       "    }\n",
       "</style>\n",
       "<table border=\"1\" class=\"dataframe\">\n",
       "  <thead>\n",
       "    <tr style=\"text-align: right;\">\n",
       "      <th></th>\n",
       "      <th>status</th>\n",
       "      <th>text</th>\n",
       "      <th>text_final</th>\n",
       "    </tr>\n",
       "  </thead>\n",
       "  <tbody>\n",
       "    <tr>\n",
       "      <th>0</th>\n",
       "      <td>negative</td>\n",
       "      <td>[the, international, electronic, industry, com...</td>\n",
       "      <td>['international', 'electronic', 'industry', 'c...</td>\n",
       "    </tr>\n",
       "    <tr>\n",
       "      <th>1</th>\n",
       "      <td>positive</td>\n",
       "      <td>[with, the, new, production, plant, the, compa...</td>\n",
       "      <td>['new', 'production', 'plant', 'company', 'wou...</td>\n",
       "    </tr>\n",
       "    <tr>\n",
       "      <th>2</th>\n",
       "      <td>positive</td>\n",
       "      <td>[according, to, the, company, 's, updated, str...</td>\n",
       "      <td>['accord', 'company', 'updated', 'strategy', '...</td>\n",
       "    </tr>\n",
       "    <tr>\n",
       "      <th>3</th>\n",
       "      <td>positive</td>\n",
       "      <td>[financing, of, aspocomp, 's, growth, aspocomp...</td>\n",
       "      <td>['financing', 'aspocomp', 'growth', 'aspocomp'...</td>\n",
       "    </tr>\n",
       "    <tr>\n",
       "      <th>4</th>\n",
       "      <td>positive</td>\n",
       "      <td>[for, the, last, quarter, of, 2010, ,, compone...</td>\n",
       "      <td>['last', 'quarter', 'componenta', 'net', 'sale...</td>\n",
       "    </tr>\n",
       "    <tr>\n",
       "      <th>...</th>\n",
       "      <td>...</td>\n",
       "      <td>...</td>\n",
       "      <td>...</td>\n",
       "    </tr>\n",
       "    <tr>\n",
       "      <th>1962</th>\n",
       "      <td>negative</td>\n",
       "      <td>[helsinki, thomson, financial, -, shares, in, ...</td>\n",
       "      <td>['helsinki', 'thomson', 'financial', 'share', ...</td>\n",
       "    </tr>\n",
       "    <tr>\n",
       "      <th>1963</th>\n",
       "      <td>negative</td>\n",
       "      <td>[london, marketwatch, --, share, prices, ended...</td>\n",
       "      <td>['london', 'marketwatch', 'share', 'price', 'e...</td>\n",
       "    </tr>\n",
       "    <tr>\n",
       "      <th>1964</th>\n",
       "      <td>negative</td>\n",
       "      <td>[operating, profit, fell, to, eur, 35.4, mn, f...</td>\n",
       "      <td>['operating', 'profit', 'fell', 'eur', 'mn', '...</td>\n",
       "    </tr>\n",
       "    <tr>\n",
       "      <th>1965</th>\n",
       "      <td>negative</td>\n",
       "      <td>[net, sales, of, the, paper, segment, decrease...</td>\n",
       "      <td>['net', 'sale', 'paper', 'segment', 'decrease'...</td>\n",
       "    </tr>\n",
       "    <tr>\n",
       "      <th>1966</th>\n",
       "      <td>negative</td>\n",
       "      <td>[sales, in, finland, decreased, by, 10.5, %, i...</td>\n",
       "      <td>['sale', 'finland', 'decrease', 'january', 'sa...</td>\n",
       "    </tr>\n",
       "  </tbody>\n",
       "</table>\n",
       "<p>1967 rows × 3 columns</p>\n",
       "</div>"
      ],
      "text/plain": [
       "        status                                               text  \\\n",
       "0     negative  [the, international, electronic, industry, com...   \n",
       "1     positive  [with, the, new, production, plant, the, compa...   \n",
       "2     positive  [according, to, the, company, 's, updated, str...   \n",
       "3     positive  [financing, of, aspocomp, 's, growth, aspocomp...   \n",
       "4     positive  [for, the, last, quarter, of, 2010, ,, compone...   \n",
       "...        ...                                                ...   \n",
       "1962  negative  [helsinki, thomson, financial, -, shares, in, ...   \n",
       "1963  negative  [london, marketwatch, --, share, prices, ended...   \n",
       "1964  negative  [operating, profit, fell, to, eur, 35.4, mn, f...   \n",
       "1965  negative  [net, sales, of, the, paper, segment, decrease...   \n",
       "1966  negative  [sales, in, finland, decreased, by, 10.5, %, i...   \n",
       "\n",
       "                                             text_final  \n",
       "0     ['international', 'electronic', 'industry', 'c...  \n",
       "1     ['new', 'production', 'plant', 'company', 'wou...  \n",
       "2     ['accord', 'company', 'updated', 'strategy', '...  \n",
       "3     ['financing', 'aspocomp', 'growth', 'aspocomp'...  \n",
       "4     ['last', 'quarter', 'componenta', 'net', 'sale...  \n",
       "...                                                 ...  \n",
       "1962  ['helsinki', 'thomson', 'financial', 'share', ...  \n",
       "1963  ['london', 'marketwatch', 'share', 'price', 'e...  \n",
       "1964  ['operating', 'profit', 'fell', 'eur', 'mn', '...  \n",
       "1965  ['net', 'sale', 'paper', 'segment', 'decrease'...  \n",
       "1966  ['sale', 'finland', 'decrease', 'january', 'sa...  \n",
       "\n",
       "[1967 rows x 3 columns]"
      ]
     },
     "execution_count": 134,
     "metadata": {},
     "output_type": "execute_result"
    }
   ],
   "source": [
    "Corpus.reset_index(drop=True)"
   ]
  },
  {
   "cell_type": "code",
   "execution_count": 135,
   "id": "1e6babcb",
   "metadata": {},
   "outputs": [],
   "source": [
    "# 30퍼센트는 테스트 데이터, 나머지 70퍼센트는 트레이닝 데이터로 데이터셋 분류\n",
    "Train_X, Test_X, Train_Y, Test_Y = model_selection.train_test_split(Corpus['text_final'],Corpus['status'],test_size=0.3)"
   ]
  },
  {
   "cell_type": "code",
   "execution_count": 136,
   "id": "b712022f",
   "metadata": {},
   "outputs": [
    {
     "data": {
      "text/plain": [
       "4795    negative\n",
       "91      positive\n",
       "1731    positive\n",
       "1764    positive\n",
       "4573    negative\n",
       "Name: status, dtype: object"
      ]
     },
     "execution_count": 136,
     "metadata": {},
     "output_type": "execute_result"
    }
   ],
   "source": [
    "# 각 테스트 데이터에 대한 y값(현재는 label1 또는 label2)\n",
    "Train_Y.head()"
   ]
  },
  {
   "cell_type": "code",
   "execution_count": 137,
   "id": "367678f9",
   "metadata": {},
   "outputs": [
    {
     "data": {
      "text/plain": [
       "4795    ['sale', 'unit', 'slump', 'last', 'year', 'ind...\n",
       "91      ['february', 'finnish', 'broadband', 'data', '...\n",
       "1731    ['developer', 'project', 'predict', 'complete'...\n",
       "1764    ['new', 'policy', 'also', 'aim', 'make', 'comp...\n",
       "4573    ['result', 'also', 'burden', 'increased', 'fix...\n",
       "Name: text_final, dtype: object"
      ]
     },
     "execution_count": 137,
     "metadata": {},
     "output_type": "execute_result"
    }
   ],
   "source": [
    "# 각 테스트 데이터에 대한 x값(현재는 문자)\n",
    "Train_X.head()"
   ]
  },
  {
   "cell_type": "code",
   "execution_count": 138,
   "id": "db8b7512",
   "metadata": {},
   "outputs": [],
   "source": [
    "# y값을 0또는 1로 인코딩 (binary classification)\n",
    "Encoder = LabelEncoder()\n",
    "Train_Y = Encoder.fit_transform(Train_Y)\n",
    "Test_Y = Encoder.fit_transform(Test_Y)"
   ]
  },
  {
   "cell_type": "code",
   "execution_count": 139,
   "id": "ef75d9c8",
   "metadata": {},
   "outputs": [
    {
     "data": {
      "text/plain": [
       "array([0, 1, 1, ..., 0, 1, 1])"
      ]
     },
     "execution_count": 139,
     "metadata": {},
     "output_type": "execute_result"
    }
   ],
   "source": [
    "Train_Y"
   ]
  },
  {
   "cell_type": "code",
   "execution_count": 140,
   "id": "dad2f3b2",
   "metadata": {},
   "outputs": [],
   "source": [
    "# TF-IDF(Term Frequency — Inverse Document Frequency)에 \n",
    "# text_final에 저장된 자연어처리된 단어들을 학습시킨다.\n",
    "Tfidf_vect = TfidfVectorizer(max_features=5000)\n",
    "Tfidf_vect.fit(Corpus['text_final'])\n",
    "\n",
    "Train_X_Tfidf = Tfidf_vect.transform(Train_X)\n",
    "Test_X_Tfidf = Tfidf_vect.transform(Test_X)"
   ]
  },
  {
   "cell_type": "code",
   "execution_count": 141,
   "id": "596f7bff",
   "metadata": {},
   "outputs": [
    {
     "name": "stdout",
     "output_type": "stream",
     "text": [
      "{'international': 1649, 'electronic': 1003, 'industry': 1594, 'company': 639, 'elcoteq': 997, 'lay': 1865, 'ten': 3505, 'employee': 1022, 'tallinn': 3444, 'facility': 1150, 'contrary': 721, 'earlier': 963, 'layoffs': 1867, 'contract': 719, 'rank': 2751, 'office': 2344, 'worker': 3864, 'daily': 798, 'postimees': 2601, 'report': 2860, 'new': 2259, 'production': 2665, 'plant': 2552, 'would': 3873, 'increase': 1579, 'capacity': 477, 'meet': 2091, 'expected': 1123, 'demand': 841, 'improve': 1563, 'use': 3711, 'raw': 2765, 'material': 2058, 'therefore': 3527, 'profitability': 2672, 'accord': 19, 'updated': 3696, 'strategy': 3326, 'year': 3882, 'basware': 303, 'target': 3462, 'net': 2249, 'sale': 2981, 'growth': 1409, 'range': 2750, 'operating': 2369, 'profit': 2671, 'margin': 2041, 'financing': 1213, 'aspocomp': 223, 'aggressively': 89, 'pursue': 2717, 'increasingly': 1581, 'focus': 1254, 'technologically': 3475, 'demanding': 842, 'hdi': 1457, 'print': 2645, 'circuit': 570, 'board': 371, 'pcbs': 2482, 'last': 1855, 'quarter': 2728, 'componenta': 659, 'double': 938, 'period': 2504, 'move': 2195, 'zero': 3896, 'loss': 1968, 'third': 3534, 'eur': 1087, 'mn': 2156, 'rise': 2921, 'corresponding': 747, 'represent': 2864, 'total': 3582, 'teliasonera': 3498, 'tlsn': 3569, 'say': 3018, 'offer': 2342, 'line': 1930, 'ownership': 2423, 'core': 742, 'business': 447, 'holding': 1496, 'strengthen': 3334, 'eesti': 984, 'telekom': 3492, 'offering': 2343, 'customer': 786, 'stora': 3317, 'enso': 1041, 'norske': 2297, 'skog': 3174, 'credit': 766, 'suisse': 3368, 'first': 1227, 'boston': 393, 'cfsb': 528, 'raise': 2744, 'fair': 1157, 'value': 3732, 'share': 3106, 'four': 1279, 'large': 1850, 'nordic': 2291, 'forestry': 1267, 'group': 1406, 'purchase': 2712, 'agreement': 92, 'ton': 3577, 'gasoline': 1336, 'delivery': 840, 'hamina': 1428, 'terminal': 3509, 'finland': 1218, 'sign': 3137, 'neste': 2248, 'oil': 2350, 'oyj': 2426, 'average': 262, 'platts': 2556, 'index': 1584, 'september': 3088, 'plus': 2567, 'eight': 994, 'dollar': 932, 'per': 2497, 'month': 2177, 'finnish': 1220, 'talentum': 3440, 'clothe': 595, 'retail': 2899, 'chain': 530, 'consolidated': 697, 'reach': 2769, 'amount': 142, 'compare': 641, 'prior': 2647, 'foundry': 1278, 'division': 918, 'machine': 1993, 'shop': 3126, 'helsinki': 1478, 'afx': 85, 'close': 591, 'high': 1483, 'lead': 1870, 'nokia': 2281, 'announce': 158, 'plan': 2549, 'team': 3473, 'sanyo': 3000, 'manufacture': 2030, 'handset': 1438, 'nokian': 2282, 'tyre': 3656, 'earnings': 966, 'beat': 314, 'analyst': 147, 'expectation': 1122, 'dealer': 816, 'incap': 1570, 'manufacturing': 2032, 'service': 3092, 'pvt': 2721, 'ltd': 1979, 'subsidiary': 3355, 'corporation': 745, 'revenue': 2908, 'director': 893, 'propose': 2690, 'dividend': 917, 'pay': 2478, 'lifetree': 1918, 'found': 1276, 'late': 1856, 'filippova': 1204, 'trilateral': 3620, 'investment': 1661, 'construction': 702, 'technology': 3476, 'park': 2453, 'st': 3262, 'petersburg': 2518, 'course': 755, 'forum': 1274, 'day': 810, 'russian': 2964, 'economy': 977, 'open': 2366, 'today': 3571, 'megafon': 2093, 'subscriber': 3352, 'base': 299, 'million': 2134, 'user': 3712, 'december': 823, 'market': 2049, 'number': 2322, 'estimate': 1079, 'income': 1577, 'life': 1914, 'insurance': 1624, 'pretax': 2634, 'surge': 3395, 'teleste': 3496, 'come': 622, 'acquisition': 28, 'make': 2011, 'nordea': 2290, 'percent': 2498, 'billion': 348, 'euro': 1088, 'brazilian': 407, 'unit': 3685, 'security': 3058, 'solution': 3217, 'provider': 2702, 'client': 587, 'online': 2361, 'news': 2265, 'source': 3225, 'reseller': 2874, 'web': 3820, 'quote': 2734, 'commercial': 629, 'vladimir': 3777, 'lithuanian': 1944, 'beer': 319, 'liter': 1941, 'january': 1691, 'figure': 1202, 'brewer': 411, 'association': 228, 'reporting': 2863, 'cite': 573, 'result': 2898, 'member': 2099, 'viking': 3767, 'cargo': 485, 'volume': 3783, 'property': 2687, 'portfolio': 2590, 'kapiteeli': 1746, 'february': 1176, 'medium': 2088, 'sanoma': 2998, 'hel': 1474, 'yesterday': 3886, 'almost': 118, 'triple': 3622, 'proposal': 2689, 'payout': 2480, 'eliiv': 1009, 'eps': 1054, 'aspo': 222, 'plc': 2560, 'stock': 3307, 'exchange': 1106, 'release': 2836, 'esl': 1071, 'ship': 3118, 'part': 2454, 'rautaruukki': 2763, 'marine': 2044, 'transport': 3609, 'baltic': 288, 'sea': 3045, 'commission': 631, 'lending': 1892, 'traffic': 3599, 'measure': 2077, 'passenger': 2465, 'kilometres': 1788, 'rpk': 2952, 'go': 1371, 'available': 260, 'seat': 3050, 'kilometre': 1787, 'ask': 218, 'fiskars': 1233, 'nyrstar': 2327, 'also': 122, 'agree': 91, 'supply': 3390, 'talvivaara': 3448, 'tonne': 3578, 'sulphuric': 3373, 'acid': 24, 'annum': 164, 'leaching': 1869, 'process': 2658, 'zinc': 3898, 'concentrate': 666, 'department': 847, 'store': 3318, 'hobby': 1494, 'hall': 1425, 'clothing': 597, 'seppala': 3086, 'decrease': 828, 'export': 1132, 'due': 955, 'grow': 1407, 'rate': 2757, 'increased': 1580, 'operation': 2370, 'partnership': 2463, 'siemens': 3135, 'network': 2253, 'biohit': 355, 'healthcare': 1463, 'public': 2707, 'develop': 868, 'liquid': 1936, 'handle': 1434, 'product': 2664, 'diagnostic': 873, 'test': 3515, 'system': 3428, 'already': 121, 'carry': 492, 'order': 2387, 'book': 383, 'stand': 3276, 'bln': 364, 'pct': 2483, 'mln': 2153, 'paper': 2445, 'main': 2003, 'include': 1574, 'publication': 2708, 'price': 2637, 'world': 3868, 'second': 3053, 'stainless': 3273, 'steel': 3297, 'maker': 2012, 'previous': 2635, 'within': 3857, 'framework': 1283, 'initial': 1601, 'sitronics': 3164, 'jsc': 1714, 'mikron': 2129, 'manufacturer': 2031, 'exporter': 1133, 'microelectronic': 2124, 'component': 658, 'russia': 2963, 'abroad': 8, 'country': 753, 'well': 3827, 'ukraine': 3662, 'standard': 3277, 'charter': 542, 'stan': 3275, 'ftse': 1304, 'royal': 2950, 'bank': 292, 'scotland': 3043, 'rb': 2766, 'barclays': 296, 'barc': 295, 'bcs': 310, 'thursday': 3544, 'cell': 506, 'phone': 2530, 'global': 1366, 'financial': 1211, 'publish': 2709, 'friday': 1297, 'seb': 3052, 'soar': 3203, 'bn': 368, 'meanwhile': 2076, 'envisage': 1052, 'three': 3541, 'ferryboat': 1189, 'option': 2381, 'two': 3653, 'confirm': 681, 'kesko': 1777, 'acquire': 27, 'capital': 478, 'wholly': 3836, 'own': 2421, 'sponda': 3253, 'syndicate': 3422, 'cover': 759, 'hdo': 1458, 'platform': 2555, 'optical': 2376, 'fttb': 1305, 'node': 2279, 'design': 857, 'forward': 1275, 'return': 2905, 'path': 2469, 'transmission': 3607, 'omx': 2357, 'cap': 473, 'rinkuskiai': 2920, 'kauno': 1761, 'alus': 131, 'april': 194, 'sell': 3071, 'stake': 3274, 'morning': 2182, 'digital': 882, 'oy': 2425, 'tj': 3567, 'edita': 979, 'become': 316, 'supplier': 3389, 'pipettors': 2544, 'disposable': 904, 'pipettor': 2543, 'tip': 3565, 'vwr': 3792, 'throughout': 3542, 'europe': 1091, 'combination': 619, 'enable': 1028, 'complex': 655, 'strengthened': 3335, 'limited': 1927, 'port': 2587, 'connection': 685, 'get': 1355, 'access': 14, 'wide': 3838, 'grimaldi': 1401, 'mediterranean': 2087, 'africa': 81, 'north': 2300, 'america': 137, 'uwe': 3720, 'bakosch': 284, 'still': 3305, 'expect': 1121, 'turnover': 3645, 'slightly': 3183, 'level': 1898, 'add': 48, 'predictability': 2619, 'poor': 2583, 'trustworthy': 3628, 'forecast': 1262, 'development': 870, 'current': 780, 'considerably': 691, 'kemira': 1774, 'position': 2596, 'metal': 2106, 'coating': 604, 'finnlines': 1222, 'adjust': 55, 'change': 536, 'structure': 3344, 'optimize': 2380, 'operational': 2371, 'efficiency': 989, 'julia': 1722, 'prohaska': 2677, 'marketing': 2050, 'communication': 637, 'invest': 1659, 'physical': 2533, 'infrastructure': 1598, 'provide': 2701, 'managing': 2024, 'science': 3037, 'sunrise': 3380, 'valley': 3730, 'andrius': 153, 'bagdonas': 281, 'broadband': 423, 'data': 807, 'saw': 3015, 'jump': 1724, 'aktia': 108, 'operate': 2368, 'vaahto': 3722, 'accounting': 22, 'food': 1258, 'tehtaat': 3484, 'continuing': 718, 'individual': 1589, 'promotion': 2685, 'generate': 1343, 'many': 2033, 'genesis': 1345, 'expand': 1118, 'respectively': 2886, 'circulation': 571, 'sweden': 3412, 'annually': 163, 'swedish': 3413, 'experience': 1126, 'annual': 161, 'however': 1519, 'continue': 717, 'favourable': 1171, 'trend': 3616, 'cash': 495, 'flow': 1249, 'activity': 39, 'lithuania': 1943, 'fourth': 1280, 'june': 1726, 'charger': 540, 'deliver': 839, 'piece': 2536, 'note': 2310, 'selling': 3072, 'decline': 827, 'though': 3537, 'mobile': 2157, 'ramirent': 2749, 'quarterended': 2729, 'thesecond': 3528, 'ruukki': 2966, 'aker': 106, 'norway': 2307, 'suction': 3365, 'anchor': 149, 'kalajoki': 1739, 'show': 3129, 'comparable': 640, 'ceo': 517, 'sakari': 2977, 'tamminen': 3450, 'magazine': 1998, 'gdp': 1338, 'overall': 2415, 'weekly': 3824, 'basis': 302, 'excess': 1105, 'cent': 511, 'end': 1030, 'march': 2039, 'ago': 90, 'best': 333, 'major': 2009, 'brewery': 412, 'domestic': 934, 'litre': 1945, 'transaction': 3604, 'tecnomens': 3481, 'workforse': 3866, 'cramo': 762, 'rental': 2853, 'latvian': 1863, 'priority': 2648, 'balance': 285, 'sheet': 3115, 'hannu': 1440, 'krook': 1822, 'yit': 3889, 'building': 437, 'geographically': 1348, 'october': 2340, 'fishing': 1232, 'tackle': 3433, 'rapala': 2754, 'vmc': 3778, 'corp': 743, 'nine': 2275, 'metso': 2116, 'mineral': 2139, 'aldata': 110, 'french': 1294, 'forest': 1266, 'machinery': 1994, 'ponsse': 2581, 'kci': 1768, 'konecranes': 1805, 'okmetic': 2351, 'silicon': 3145, 'wafer': 3793, 'semiconductor': 3073, 'sensor': 3078, 'norwegian': 2308, 'solar': 3211, 'norsun': 2298, 'mono': 2173, 'crystal': 775, 'pharmaceutical': 2524, 'orion': 2392, 'babcock': 271, 'distribution': 911, 'support': 3391, 'harvester': 1449, 'head': 1459, 'information': 1597, 'south': 3226, 'african': 83, 'sappi': 3002, 'foreign': 1263, 'graphic': 1390, 'deputy': 854, 'md': 2073, 'pekka': 2490, 'silvennoinen': 3148, 'aim': 98, 'next': 2270, 'hkscan': 1493, 'portti': 2592, 'advertising': 70, 'takeover': 3439, 'significant': 3140, 'alma': 117, 'previously': 2636, 'time': 3562, 'ls': 1978, 'besides': 332, 'meat': 2080, 'various': 3738, 'sausage': 3010, 'taste': 3467, 'grill': 1400, 'shish': 3124, 'kebab': 1769, 'segment': 3063, 'paavel': 2428, 'approximately': 192, 'digia': 881, 'dilute': 884, 'versus': 3755, 'ebit': 973, 'equity': 1057, 'ratio': 2759, 'frozen': 1301, 'may': 2068, 'textile': 3520, 'marimekko': 2043, 'se': 3044, 'privately': 2651, 'hold': 1495, 'electronics': 1005, 'deal': 815, 'equipment': 1056, 'andrew': 151, 'cutlery': 789, 'hand': 1431, 'tool': 3579, 'abp': 7, 'fisa': 1229, 'usd': 3710, 'stockmann': 3309, 'lifting': 1920, 'july': 1723, 'half': 1424, 'message': 2105, 'developer': 869, 'tecnomen': 3480, 'receive': 2786, 'expansion': 1120, 'convergent': 728, 'charge': 539, 'latin': 1858, 'outotec': 2410, 'computer': 665, 'accessory': 16, 'privacy': 2649, 'software': 3209, 'stonesoft': 3313, 'preliminary': 2621, 'stonegate': 3312, 'august': 245, 'do': 923, 'underlie': 3672, 'follow': 1257, 'relacom': 2829, 'presence': 2629, 'serve': 3091, 'operator': 2373, 'fixed': 1240, 'installation': 1617, 'maintenance': 2007, 'wholesale': 3834, 'reported': 2861, 'see': 3060, 'eloholma': 1011, 'ragutis': 2740, 'control': 725, 'beverage': 336, 'bbh': 308, 'post': 2599, 'addition': 49, 'kone': 1804, 'escalator': 1069, 'alone': 119, 'interest': 1641, 'review': 2909, 'currency': 779, 'widen': 3839, 'agro': 94, 'retailer': 2900, 'wholesaler': 3835, 'grain': 1386, 'agricultural': 93, 'warehousing': 3802, 'preceding': 2615, 'car': 481, 'import': 1560, 'retailing': 2901, 'adp': 63, 'feb': 1175, 'management': 2021, 'ixonos': 1688, 'solutions': 3218, 'affecto': 77, 'nov': 2315, 'measurement': 2078, 'vaisala': 3726, 'vaias': 3725, 'oct': 2339, 'procurement': 2661, 'honkajoki': 1504, 'findest': 1215, 'protein': 2697, 'animal': 155, 'fat': 1167, 'biodiesel': 352, 'porvoo': 2594, 'refinery': 2811, 'vegetable': 3745, 'multimedia': 2200, 'kauppalehti': 1762, 'marketplace': 2051, 'intake': 1626, 'respective': 2885, 'pharma': 2523, 'press': 2633, 'install': 1616, 'bridge': 413, 'kyronsalmi': 1829, 'strait': 3321, 'savonlinna': 3014, 'guide': 1416, 'device': 871, 'area': 201, 'satama': 3004, 'section': 3055, 'regional': 2820, 'finnair': 1219, 'asian': 216, 'kilometer': 1786, 'tekla': 3485, 'scope': 3040, 'least': 1881, 'one': 2358, 'fifth': 1200, 'full': 1312, 'build': 435, 'fleet': 1243, 'place': 2548, 'tanker': 3453, 'dwt': 960, 'outlook': 2408, 'government': 1381, 'wednesday': 3822, 'chemical': 548, 'fertilizer': 1190, 'send': 3075, 'german': 1353, 'code': 607, 'another': 167, 'oneworld': 2359, 'american': 138, 'airline': 102, 'inc': 1569, 'amr': 143, 'nyse': 2328, 'salomon': 2983, 'atomic': 236, 'suunto': 3404, 'brand': 402, 'register': 2821, 'trade': 3592, 'november': 2318, 'trading': 3597, 'bring': 414, 'tuesday': 3634, 'region': 2819, 'eastern': 969, 'recovery': 2797, 'china': 553, 'representation': 2865, 'extend': 1137, 'comptel': 664, 'worldwide': 3869, 'tietoenator': 3550, 'intellisync': 1633, 'suite': 3370, 'wireless': 3854, 'email': 1015, 'calendar': 458, 'capability': 474, 'vacon': 3723, 'exist': 1116, 'cybercom': 794, 'cto': 776, 'esko': 1070, 'myllyla': 2210, 'via': 3759, 'satlan': 3008, 'video': 3762, 'partner': 2462, 'cable': 455, 'broadcaster': 424, 'iptv': 1668, 'central': 513, 'extension': 1140, 'engine': 1033, 'produce': 2662, 'mw': 2208, 'european': 1092, 'strongly': 3342, 'firstquarter': 1228, 'since': 3157, 'magnus': 2000, 'rosen': 2944, 'good': 1375, 'president': 2632, 'heikki': 1473, 'allonen': 115, 'point': 2573, 'relatively': 2835, 'overlap': 2416, 'larox': 1852, 'project': 2678, 'filter': 1206, 'nickel': 2271, 'mine': 2135, 'sotkamo': 3223, 'whole': 3833, 'objective': 2330, 'elisa': 1010, 'subscription': 3353, 'mainly': 2005, 'adopt': 62, 'generation': 1344, 'ahead': 95, 'panostaja': 2443, 'fiscal': 1230, 'geosentric': 1350, 'geosolutions': 1351, 'gypsii': 1420, 'lifestyle': 1916, 'application': 183, 'social': 3204, 'networking': 2254, 'nanjing': 2219, 'mynet': 2212, 'outokumpu': 2409, 'mongolia': 2172, 'erdenet': 1062, 'mining': 2140, 'engineering': 1035, 'hydrocopper': 1531, 'site': 3163, 'proportion': 2688, 'paid': 2435, 'standing': 3279, 'stone': 3311, 'realize': 2778, 'effect': 985, 'litas': 1940, 'ac': 9, 'drive': 946, 'set': 3094, 'representative': 2866, 'romania': 2940, 'southeastern': 3229, 'affect': 76, 'nevertheless': 2257, 'postel': 2600, 'distributor': 912, 'strong': 3340, 'olvi': 2355, 'le': 1868, 'coq': 741, 'markedly': 2048, 'recycle': 2799, 'employ': 1021, 'percentage': 2499, 'veidekke': 3747, 'entreprenor': 1047, 'packaging': 2431, 'czech': 795, 'republic': 2867, 'slovakia': 3186, 'airbus': 100, 'aircraft': 101, 'variant': 3736, 'trent': 3617, 'series': 3090, 'call': 459, 'intensify': 1635, 'smelter': 3192, 'copper': 740, 'scheduled': 3031, 'nearly': 2237, 'flight': 1246, 'poland': 2575, 'disposal': 905, 'autotank': 258, 'comment': 627, 'gustav': 1419, 'nyberg': 2326, 'economic': 976, 'occupancy': 2336, 'va': 3721, 'telecom': 3488, 'tecnotree': 3482, 'worth': 3872, 'charging': 541, 'without': 3858, 'specify': 3242, 'activeness': 37, 'start': 3282, 'state': 3285, 'firm': 1226, 'sek': 3066, 'telemig': 3494, 'celular': 508, 'beginning': 321, 'prepaid': 2625, 'xerox': 3877, 'tailor': 3436, 'town': 3587, 'lease': 1878, 'whereby': 3831, 'occupy': 2337, 'travel': 3611, 'centre': 515, 'upgrade': 3697, 'intend': 1634, 'mhz': 2122, 'several': 3098, 'city': 576, 'television': 3497, 'turn': 3643, 'twofold': 3654, 'zahariev': 3894, 'separately': 3085, 'austrian': 251, 'ag': 86, 'week': 3823, 'germany': 1354, 'austria': 250, 'hungary': 1526, 'thereby': 3526, 'mostly': 2188, 'apparent': 179, 'observe': 2332, 'perttu': 2513, 'puro': 2715, 'tradeka': 3594, 'tinyurl': 3564, 'link': 1932, 'take': 3438, 'scamming': 3023, 'promising': 2683, 'earn': 965, 'thousand': 3538, 'google': 1377, 'nasdaq': 2222, 'goog': 1376, 'advertiser': 69, 'relative': 2834, 'kazakhstan': 1766, 'ordabasy': 2386, 'astana': 232, 'tire': 3566, 'chairman': 531, 'dinmukhamet': 887, 'idrisov': 1543, 'conference': 676, 'affectogenimap': 78, 'sector': 3056, 'intellibis': 1631, 'ab': 2, 'local': 1953, 'refinance': 2809, 'syndicated': 3423, 'furthermore': 1321, 'bunge': 442, 'licensing': 1908, 'sunnuntai': 3379, 'carlshamn': 487, 'mejeri': 2096, 'buy': 450, 'danish': 803, 'poultry': 2605, 'harbor': 1444, 'chief': 551, 'executive': 1113, 'lundmark': 1984, 'tell': 3500, 'deutschland': 866, 'telko': 3499, 'strategic': 3325, 'bp': 400, 'industrial': 1591, 'lubricant': 1982, 'il': 1548, 'gradually': 1385, 'asset': 225, 'jydsk': 1732, 'materiel': 2060, 'udlejning': 3659, 'locate': 1955, 'west': 3828, 'jutland': 1730, 'switch': 3418, 'converter': 730, 'whilst': 3832, 'location': 1956, 'real': 2776, 'estate': 1078, 'fund': 1316, 'ky': 1827, 'window': 3848, 'fenestra': 1185, 'forssa': 1272, 'southern': 3230, 'commit': 632, 'apollo': 177, 'uranium': 3705, 'comprise': 663, 'traded': 3593, 'term': 3508, 'cameco': 462, 'maximum': 2067, 'cost': 749, 'extraction': 1145, 'oxygen': 2424, 'sick': 3133, 'maihak': 2001, 'gmbh': 1369, 'beijing': 322, 'hong': 1502, 'small': 3189, 'enterprise': 1044, 'lidskoe': 1910, 'pivo': 2546, 'program': 2674, 'foresee': 1265, 'integrated': 1628, 'modernization': 2165, 'update': 3695, 'logistics': 1960, 'instrument': 1623, 'mikshis': 2130, 'residentialconstruction': 2880, 'particular': 2458, 'pick': 2535, 'voting': 3787, 'right': 2916, 'elevator': 1008, 'chinese': 554, 'output': 2412, 'turkish': 3641, 'doktas': 929, 'dokumculuk': 930, 'ticaret': 3547, 'sanayi': 2990, 'estonia': 1081, 'manipulator': 2027, 'bought': 398, 'player': 2558, 'knight': 1799, 'mmh': 2154, 'owner': 2422, 'morris': 2184, 'different': 879, 'address': 52, 'adpnews': 64, 'jun': 1725, 'revolve': 2910, 'silva': 3147, 'garden': 1331, 'boat': 372, 'challenge': 533, 'scale': 3022, 'formation': 1270, 'plug': 2563, 'pipeline': 2542, 'halt': 1426, 'sysopen': 3426, 'shareholder': 3107, 'sentera': 3079, 'vote': 3786, 'onwards': 2364, 'decision': 825, 'lenenergo': 1893, 'fortum': 1273, 'grid': 1397, 'container': 712, 'namibia': 2218, 'walvis': 3799, 'bay': 307, 'coast': 601, 'doubling': 939, 'floor': 1247, 'space': 3233, 'cargotec': 486, 'gorelovo': 1378, 'sq': 3258, 'atria': 237, 'launch': 1864, 'winner': 3849, 'ford': 1261, 'struggle': 3345, 'face': 1149, 'slow': 3187, 'truck': 3624, 'suv': 3405, 'surfeit': 3393, 'ta': 3429, 'peer': 2489, 'peugeot': 2522, 'fell': 1183, 'fall': 1158, 'hit': 1491, 'expenditure': 1124, 'crisis': 768, 'significance': 3139, 'emphasise': 1020, 'size': 3169, 'rapid': 2755, 'tv': 3647, 'view': 3764, 'attractive': 242, 'union': 3683, 'normal': 2293, 'spokesman': 3249, 'usko': 3713, 'maatta': 1991, 'pohjola': 2572, 'motorcyclist': 2189, 'safety': 2973, 'back': 274, 'grupe': 1410, 'denmark': 844, 'unibrew': 3680, 'seven': 3096, 'license': 1907, 'popular': 2584, 'pattern': 2474, 'staff': 3269, 'recruit': 2798, 'japan': 1692, 'complement': 652, 'capacitor': 476, 'reliability': 2838, 'indian': 1586, 'noon': 2288, 'arm': 203, 'producer': 2663, 'contribution': 724, 'stx': 3348, 'environmentally': 1051, 'friendly': 1299, 'cruise': 773, 'ferry': 1188, 'manage': 2020, 'turku': 3642, 'stockholm': 3308, 'withviking': 3859, 'clearly': 584, 'positive': 2597, 'tower': 3586, 'choose': 559, 'summer': 3376, 'broadsheet': 425, 'tabloid': 3431, 'page': 2434, 'ability': 4, 'run': 2961, 'side': 3134, 'uponor': 3703, 'record': 2796, 'invoice': 1663, 'automation': 256, 'connectivity': 686, 'kazgiprotsvetmet': 1767, 'cooperation': 736, 'providing': 2703, 'metallurgical': 2107, 'related': 2831, 'surrounding': 3399, 'lemcon': 1889, 'kaluga': 1743, 'administration': 58, 'favourably': 1172, 'middle': 2126, 'east': 968, 'africaand': 82, 'asia': 215, 'pacific': 2429, 'involve': 1665, 'transfer': 3605, 'certain': 519, 'documentation': 925, 'function': 1314, 'etteplan': 1084, 'appointment': 186, 'kaupthing': 1763, 'prove': 2699, 'rod': 2935, 'baber': 272, 'english': 1036, 'climber': 589, 'climb': 588, 'mount': 2192, 'everest': 1096, 'summit': 3377, 'successfully': 3364, 'ahlstrom': 96, 'specialty': 3240, 'glassfiber': 1363, 'reinforcement': 2826, 'carolina': 489, 'consensus': 688, 'papua': 2449, 'lihir': 1923, 'gold': 1373, 'asx': 233, 'lgl': 1902, 'extensive': 1141, 'bolster': 380, 'kallioranta': 1741, 'cooperationand': 737, 'tie': 3548, 'ourmachinery': 2403, 'theodosopoulos': 3525, 'tellabs': 3501, 'could': 750, 'nortel': 2299, 'give': 1360, 'leading': 1873, 'status': 3289, 'verizon': 3753, 'along': 120, 'succeed': 3361, 'apartment': 175, 'mr': 2196, 'kari': 1751, 'kauniskangas': 1759, 'capman': 480, 'able': 5, 'quality': 2727, 'restaurant': 2894, 'christopher': 563, 'wynne': 3875, 'papa': 2444, 'john': 1704, 'suominen': 3382, 'specialise': 3237, 'wet': 3830, 'wipe': 3852, 'nonwovens': 2287, 'flexible': 1245, 'brasil': 404, 'trust': 3627, 'accelerate': 12, 'dec': 820, 'phosphate': 2532, 'concentrator': 667, 'siilinjarvi': 3144, 'minera': 2137, 'priit': 2641, 'kasak': 1755, 'balti': 287, 'metsamasina': 2115, 'wish': 3856, 'valmet': 3731, 'couple': 754, 'potential': 2603, 'getinge': 1356, 'robust': 2932, 'inclusion': 1575, 'lindex': 1928, 'six': 3167, 'truly': 3626, 'height': 1472, 'hope': 1508, 'opening': 2367, 'freight': 1293, 'scandinavia': 3025, 'ephc': 1053, 'approve': 190, 'quarterly': 2730, 'kalmar': 1742, 'award': 265, 'gantry': 1329, 'rtg': 2956, 'crane': 763, 'saigon': 2975, 'newport': 2264, 'snp': 3201, 'vietnam': 3763, 'bilfinger': 345, 'investor': 1662, 'cheer': 547, 'push': 2718, 'afternoon': 84, 'healthy': 1464, 'focused': 1255, 'london': 1961, 'abn': 6, 'amro': 144, 'marketwatch': 2052, 'nok': 2280, 'hutchison': 1528, 'essar': 1074, 'india': 1585, 'progress': 2675, 'qpr': 2723, 'saudi': 3009, 'arabia': 198, 'long': 1962, 'relationship': 2833, 'ise': 1674, 'achieve': 23, 'ft': 1303, 'copenhagen': 739, 'premier': 2622, 'shopping': 3127, 'district': 913, 'inaugurate': 1567, 'gain': 1325, 'peab': 2484, 'exclusive': 1110, 'existing': 1117, 'five': 1238, 'establishes': 1077, 'kolkata': 1803, 'establish': 1075, 'weight': 3825, 'shipment': 3121, 'selects': 3070, 'party': 2464, 'leader': 1871, 'transplace': 3608, 'complete': 653, 'visibility': 3773, 'transportation': 3610, 'allow': 116, 'speed': 3243, 'feedback': 1180, 'rpm': 2953, 'significantly': 3141, 'tulonen': 3637, 'rich': 2913, 'heritage': 1481, 'leadership': 1872, 'smartphone': 3190, 'elektros': 1007, 'pavara': 2476, 'consultancy': 705, 'trainer': 3602, 'house': 1515, 'resolve': 2882, 'issue': 1680, 'hybrid': 1529, 'bond': 382, 'bid': 340, 'repair': 2856, 'account': 21, 'money': 2171, 'spend': 3244, 'competitiveness': 650, 'sphere': 3246, 'sawmill': 3016, 'wood': 3862, 'processing': 2659, 'glass': 1362, 'consistency': 694, 'throughput': 3543, 'successful': 3363, 'look': 1964, 'help': 1476, 'digitalize': 883, 'collection': 613, 'error': 1067, 'combine': 620, 'single': 3160, 'reduce': 2804, 'deployment': 849, 'narrow': 2221, 'handling': 1437, 'biobv': 350, 'fiber': 1196, 'plastic': 2554, 'sport': 3255, 'amer': 136, 'ameas': 134, 'rtrks': 2958, 'proha': 2676, 'factory': 1153, 'work': 3863, 'model': 2159, 'reorganisation': 2855, 'contrast': 722, 'raute': 2764, 'pcb': 2481, 'metsaliitto': 2114, 'hardware': 1446, 'elektrobit': 1006, 'eb': 972, 'diluted': 885, 'airvana': 105, 'umts': 3664, 'home': 1500, 'station': 3287, 'femto': 1184, 'functionality': 1315, 'feature': 1174, 'low': 1972, 'frequency': 1295, 'ropax': 2942, 'vessel': 3758, 'present': 2630, 'structural': 3343, 'reduction': 2805, 'closely': 592, 'shipping': 3123, 'agent': 87, 'fuel': 1307, 'consumption': 709, 'greenhouse': 1396, 'gas': 1335, 'emission': 1019, 'slip': 3184, 'tax': 3468, 'jul': 1721, 'bore': 390, 'rettig': 2904, 'family': 1160, 'recently': 2788, 'saving': 3012, 'sampo': 2988, 'danske': 804, 'expense': 1125, 'measuring': 2079, 'power': 2607, 'efore': 992, 'apr': 193, 'solteq': 3216, 'peri': 2503, 'salonen': 2984, 'pulp': 2710, 'inventory': 1658, 'kroon': 1823, 'especially': 1072, 'currently': 781, 'anticipate': 170, 'asimilar': 217, 'sehk': 3064, 'chl': 556, 'carrier': 491, 'thegps': 3523, 'promote': 2684, 'olympic': 2356, 'game': 1328, 'thelatest': 3524, 'upm': 3701, 'jussi': 1729, 'pesonen': 2514, 'whose': 3837, 'wilson': 3844, 'cut': 788, 'tallink': 3443, 'carriage': 490, 'tallinna': 3445, 'sadam': 2971, 'pnaas': 2570, 'pnabs': 2571, 'entire': 1046, 'kospa': 1811, 'waste': 3808, 'drag': 943, 'recent': 2787, 'loan': 1952, 'finance': 1210, 'center': 512, 'redevelopment': 2803, 'refinancing': 2810, 'mature': 2064, 'debt': 818, 'ore': 2388, 'streak': 3327, 'item': 1685, 'tiimari': 3554, 'geenrated': 1340, 'additional': 50, 'optimisation': 2377, 'working': 3867, 'hour': 1514, 'expertise': 1127, 'innovative': 1609, 'extremely': 1146, 'efficient': 990, 'stationery': 3288, 'gift': 1359, 'remain': 2841, 'weak': 3816, 'cet': 525, 'monday': 2170, 'bavarian': 306, 'lose': 1967, 'past': 2466, 'example': 1100, 'ebitda': 975, 'negative': 2241, 'drop': 949, 'force': 1260, 'huhtamaki': 1522, 'axe': 269, 'job': 1702, 'hampshire': 1430, 'rapidly': 2756, 'strengthening': 3336, 'impact': 1556, 'national': 2226, 'painful': 2436, 'payment': 2479, 'majority': 2010, 'moment': 2169, 'valio': 3728, 'worried': 3870, 'ban': 291, 'quite': 2733, 'problem': 2653, 'cencorp': 510, 'satisfy': 3007, 'implementation': 1559, 'geography': 1349, 'repeat': 2858, 'ebita': 974, 'separate': 3084, 'faster': 1166, 'tapro': 3460, 'rentakran': 2852, 'brings': 415, 'authority': 254, 'territory': 3513, 'jarmo': 1694, 'laasanen': 1831, 'senior': 3076, 'manager': 2022, 'latvia': 1862, 'history': 1490, 'mattila': 2063, 'professional': 2669, 'approach': 188, 'assess': 224, 'margarine': 2040, 'put': 2719, 'shape': 3105, 'natural': 2228, 'leverage': 1899, 'northern': 2302, 'raisio': 2745, 'matti': 2062, 'rihko': 2917, 'statement': 3286, 'win': 3846, 'oems': 2341, 'wimax': 3845, 'portion': 2591, 'winning': 3850, 'patent': 2468, 'dispute': 906, 'japanese': 1693, 'bypass': 453, 'jan': 1690, 'kotka': 1814, 'jouko': 1710, 'lahtinen': 1838, 'stabilise': 3264, 'karppinen': 1752, 'eklund': 996, 'satisfied': 3006, 'performance': 2502, 'action': 32, 'annualised': 162, 'permanent': 2506, 'around': 206, 'boost': 387, 'nevsky': 2258, 'benefon': 328, 'gps': 1383, 'karputer': 1753, 'twig': 3652, 'navigation': 2232, 'satellite': 3005, 'voice': 3781, 'guidance': 1415, 'deep': 830, 'domain': 933, 'asm': 219, 'outsource': 2414, 'brisk': 417, 'decade': 821, 'divest': 915, 'noncore': 2286, 'fitness': 1236, 'spark': 3235, 'atec': 234, 'baseball': 300, 'softball': 3208, 'pitching': 2545, 'espoon': 1073, 'kaupunki': 1764, 'personal': 2510, 'care': 484, 'poyry': 2611, 'energy': 1032, 'advise': 71, 'builder': 436, 'cogeneration': 609, 'kaunas': 1758, 'supervise': 3387, 'construct': 701, 'tapiola': 3459, 'yard': 3881, 'customised': 787, 'schedule': 3030, 'fireplace': 1225, 'exceed': 1101, 'early': 964, 'brisker': 418, 'remainder': 2842, 'rough': 2946, 'terrain': 3512, 'handler': 1435, 'rtch': 2955, 'mediation': 2085, 'provision': 2704, 'inkinen': 1607, 'leasing': 1880, 'highly': 1486, 'recognize': 2792, 'standardised': 3278, 'reception': 2790, 'among': 141, 'itella': 1684, 'exceeded': 1102, 'glisten': 1365, 'uk': 3661, 'snack': 3196, 'bergvik': 330, 'appreciation': 187, 'maintain': 2006, 'assumption': 230, 'thanksto': 3522, 'improvement': 1565, 'adjustment': 57, 'theutilization': 3530, 'substantiallyimproved': 3358, 'chrome': 564, 'resource': 2884, 'turkey': 3640, 'steady': 3295, 'synergy': 3425, 'benefit': 327, 'broad': 422, 'planned': 2550, 'rebuilds': 2784, 'situation': 3166, 'normalise': 2294, 'residential': 2879, 'moscow': 2186, 'instal': 1615, 'delhi': 836, 'metro': 2112, 'spokeswoman': 3251, 'thomson': 3536, 'chance': 535, 'booking': 384, 'want': 3800, 'mikko': 2128, 'tuomainen': 3639, 'internet': 1651, 'great': 1395, 'promise': 2682, 'future': 1322, 'combined': 621, 'create': 764, 'leisure': 1887, 'favorable': 1169, 'actively': 36, 'away': 266, 'towards': 3585, 'dynamic': 961, 'ervio': 1068, 'basic': 301, 'canadian': 468, 'miner': 2136, 'northland': 2304, 'osl': 2397, 'naur': 2230, 'tse': 3631, 'nau': 2229, 'institution': 1622, 'sodra': 3205, 'pension': 2494, 'varma': 3739, 'recipient': 2791, 'competitive': 649, 'tendering': 3507, 'road': 2927, 'heating': 1470, 'air': 99, 'conditioning': 673, 'cool': 732, 'automobile': 257, 'adac': 44, 'munich': 2203, 'volvo': 3785, 'rebuild': 2783, 'sabah': 2969, 'sfi': 3099, 'mill': 2133, 'malaysia': 2013, 'uncoated': 3669, 'fine': 1216, 'mcc': 2071, 'yinhe': 3888, 'grind': 1402, 'superstructure': 3386, 'gothenburg': 1380, 'municipality': 2204, 'metre': 2110, 'atrium': 238, 'tikkakoski': 3556, 'kai': 1737, 'telanne': 3487, 'newspaper': 2266, 'ever': 1095, 'resettlement': 2877, 'hotel': 1513, 'hilton': 1488, 'room': 2941, 'sami': 2987, 'sarkamies': 3003, 'ringman': 2919, 'recycling': 2801, 'schmardin': 3034, 'likely': 1925, 'try': 3629, 'vahur': 3724, 'kraft': 1817, 'cooperate': 735, 'adanac': 45, 'molybdenum': 2168, 'canada': 467, 'british': 420, 'columbia': 617, 'shalkiya': 3102, 'broker': 427, 'rating': 2758, 'restructuring': 2897, 'clear': 582, 'arvo': 211, 'vuorenmaa': 3791, 'loviisa': 1971, 'general': 1341, 'licence': 1906, 'procedure': 2655, 'confident': 679, 'approval': 189, 'grant': 1388, 'dog': 927, 'ilkka': 1550, 'sihvo': 3143, 'conjunction': 683, 'interim': 1644, 'cision': 572, 'citigroup': 575, 'gts': 1413, 'mandate': 2026, 'vendor': 3748, 'os': 2395, 'select': 3068, 'orascom': 2385, 'oth': 2400, 'activation': 34, 'extends': 1139, 'asmobile': 220, 'dma': 920, 'consulting': 707, 'poy': 2610, 'tanqia': 3454, 'dibba': 875, 'fzc': 1323, 'wastewater': 3809, 'emirate': 1018, 'fujairah': 1308, 'uae': 3658, 'technical': 3474, 'organization': 2389, 'cgcbv': 529, 'macgregor': 1992, 'hatch': 1454, 'shipowner': 3122, 'grieg': 1398, 'necessary': 2238, 'partihallsforbindelsen': 2460, 'western': 3829, 'iittala': 1547, 'gerber': 1352, 'buster': 448, 'mark': 2047, 'entry': 1048, 'bullish': 441, 'dagens': 797, 'industri': 1590, 'initiate': 1603, 'bear': 312, 'fruit': 1302, 'lang': 1845, 'banking': 293, 'tieto': 3549, 'pink': 2540, 'pojlf': 2574, 'swift': 3414, 'hearst': 1467, 'consolidate': 696, 'helsingin': 1477, 'uutiset': 3719, 'vantaan': 3735, 'sanomat': 2999, 'lansivayla': 1848, 'reader': 2773, 'consumer': 708, 'latter': 1860, 'jaemsaenkoski': 1689, 'coat': 602, 'color': 615, 'simdax': 3150, 'authorisation': 252, 'submit': 3351, 'outperform': 2411, 'recommendation': 2795, 'accordance': 20, 'lehdentekijat': 1885, 'membership': 2100, 'viisas': 3766, 'raha': 2741, 'wise': 3855, 'outside': 2413, 'actor': 40, 'interested': 1642, 'glaston': 1364, 'private': 2650, 'ambulance': 133, 'know': 1800, 'concept': 668, 'fidelity': 1197, 'roll': 2939, 'ghana': 1357, 'premise': 2623, 'people': 2495, 'ayanambakkam': 270, 'suburb': 3359, 'chennai': 549, 'fully': 1313, 'integrate': 1627, 'ibm': 1535, 'portal': 2589, 'implement': 1558, 'venezuel': 3749, 'raivv': 2747, 'sep': 3083, 'unnamed': 3691, 'te': 3471, 'philippine': 2529, 'fr': 1281, 'cement': 509, 'consult': 704, 'integration': 1629, 'buyout': 452, 'fitch': 1235, 'fundamental': 1317, 'sound': 3224, 'prosition': 2693, 'emerge': 1017, 'australia': 248, 'decide': 824, 'incentive': 1572, 'commitment': 633, 'pioneer': 2541, 'library': 1905, 'art': 209, 'culture': 777, 'education': 981, 'participate': 2457, 'big': 343, 'read': 2772, 'federal': 1177, 'reading': 2774, 'ooo': 2365, 'ilim': 1549, 'bratsk': 405, 'dok': 928, 'evident': 1098, 'particularly': 2459, 'primarily': 2642, 'savon': 3013, 'koulutuskuntayhtyma': 1815, 'specialist': 3238, 'skf': 3171, 'alandsbanken': 109, 'sto': 3306, 'sony': 3220, 'ericsson': 1064, 'dominate': 935, 'list': 1939, 'speak': 3236, 'spokesperson': 3250, 'perform': 2501, 'namely': 2217, 'owe': 2420, 'prolonged': 2681, 'winter': 3851, 'season': 3048, 'mastercard': 2057, 'affarsvarlden': 75, 'crown': 772, 'top': 3580, 'sverige': 3408, 'immediate': 1553, 'amending': 135, 'simplify': 3154, 'key': 1779, 'stay': 3293, 'australian': 249, 'mirabela': 2146, 'sulfide': 3372, 'bahia': 282, 'brazil': 406, 'palfinger': 2439, 'buyer': 451, 'thus': 3545, 'reinforce': 2825, 'martela': 2053, 'mechanise': 2083, 'harvesting': 1450, 'eucalyptus': 1086, 'plantation': 2553, 'oborniki': 2331, 'frame': 1282, 'sandwich': 2995, 'panel': 2441, 'foot': 1259, 'mountain': 2193, 'surf': 3392, 'even': 1093, 'exploit': 1130, 'ethibel': 1083, 'innovest': 1611, 'sustainable': 3403, 'goal': 1372, 'stabilisation': 3263, 'compensate': 643, 'act': 31, 'reserve': 2876, 'batch': 305, 'category': 498, 'tradition': 3598, 'established': 1076, 'original': 2391, 'name': 2216, 'comparison': 642, 'uh': 3660, 'extensively': 1142, 'later': 1857, 'human': 1524, 'pilot': 2539, 'rifd': 2914, 'ideal': 1542, 'purpose': 2716, 'olli': 2354, 'saarinen': 2968, 'supervisor': 3388, 'yara': 3880, 'palm': 2440, 'certify': 523, 'roundtable': 2947, 'rspo': 2954, 'interesting': 1643, 'opportunity': 2375, 'diversified': 914, 'improved': 1564, 'reservation': 2875, 'visitor': 3775, 'shanghai': 3104, 'validate': 3727, 'fgvoip': 1193, 'symbian': 3421, 'step': 3301, 'accomplish': 18, 'wartsila': 3805, 'manturovo': 2029, 'kostroma': 1813, 'km': 1798, 'northeast': 2301, 'honor': 1506, 'gartner': 1334, 'modeling': 2160, 'analysis': 146, 'novel': 2317, 'clinical': 590, 'candidate': 471, 'underperform': 3675, 'goldman': 1374, 'sachs': 2970, 'packed': 2432, 'fresh': 1296, 'continent': 715, 'mumbai': 2202, 'dictate': 876, 'lowering': 1974, 'competitor': 651, 'eye': 1147, 'fast': 1164, 'demonstrate': 843, 'apply': 184, 'adjacent': 54, 'shale': 3101, 'pleased': 2562, 'solel': 3213, 'requirement': 2872, 'reflector': 2814, 'feel': 1182, 'liquefied': 1935, 'lng': 1949, 'psv': 2706, 'eidesvik': 993, 'offshore': 2348, 'asa': 213, 'eiof': 995, 'finlan': 1217, 'official': 2346, 'heathrow': 1469, 'osaka': 2396, 'manchester': 2025, 'hiab': 1482, 'loader': 1951, 'bae': 280, 'defense': 832, 'roaster': 2930, 'cleaning': 581, 'ozk': 2427, 'kardzhali': 1748, 'bulgaria': 439, 'cfr': 527, 'railway': 2743, 'neomarkka': 2246, 'kuitu': 1825, 'restart': 2893, 'distribute': 910, 'shimano': 3117, 'reel': 2807, 'fish': 1231, 'stadtverwaltung': 3268, 'mainz': 2008, 'chassis': 544, 'body': 375, 'erkki': 1065, 'happy': 1443, 'ready': 2775, 'soon': 3221, 'estonian': 1082, 'cross': 771, 'bns': 369, 'telecommunication': 3490, 'exel': 1114, 'composite': 660, 'prospect': 2694, 'fi': 1195, 'keyword': 1781, 'microsoft': 2125, 'lemminkainen': 1891, 'mall': 2017, 'dna': 921, 'subcontractor': 3349, 'maingate': 2004, 'responsible': 2890, 'lifecycle': 1915, 'medical': 2086, 'lankapaja': 1846, 'enter': 1043, 'actual': 41, 'kivimeister': 1796, 'deer': 831, 'former': 1271, 'timberjack': 3561, 'together': 3572, 'superior': 3385, 'er': 1059, 'juha': 1719, 'rantanen': 2753, 'express': 1135, 'confidence': 678, 'productional': 2666, 'span': 3234, 'kemijoki': 1773, 'river': 2925, 'vat': 3742, 'inclusive': 1576, 'materialise': 2059, 'sentry': 3081, 'form': 1269, 'advance': 66, 'immersive': 1555, 'camera': 463, 'thanks': 3521, 'multiply': 2201, 'wagon': 3795, 'much': 2199, 'malkia': 2016, 'vr': 3789, 'reiterate': 2827, 'yearly': 3883, 'borrower': 391, 'roadshow': 2929, 'scissors': 3039, 'shareholding': 3108, 'surpass': 3397, 'attract': 241, 'secretary': 3054, 'mexico': 2119, 'mexican': 2118, 'sintra': 3161, 'suburban': 3360, 'meur': 2117, 'advanced': 67, 'negotiate': 2242, 'definitive': 833, 'rationalization': 2760, 'seek': 3061, 'reasonably': 2780, 'keep': 1771, 'turun': 3646, 'kaupunkin': 1765, 'talotekniikka': 3446, 'electrical': 1000, 'moderate': 2162, 'cvd': 792, 'risk': 2923, 'spite': 3248, 'israeli': 1679, 'hot': 1512, 'fttx': 1306, 'israel': 1678, 'marubeni': 2054, 'adr': 65, 'maruy': 2055, 'army': 204, 'unify': 3681, 'tm': 3570, 'learn': 1877, 'teacher': 3472, 'choice': 557, 'classroom': 579, 'believe': 324, 'officer': 2345, 'corporate': 744, 'phonebook': 2531, 'inside': 1613, 'kouvola': 1816, 'metric': 2111, 'scorecard': 3042, 'date': 809, 'text': 3519, 'content': 713, 'spin': 3247, 'event': 1094, 'pricy': 2639, 'pearl': 2485, 'plaza': 2559, 'llc': 1948, 'joint': 1706, 'venture': 3751, 'srv': 3260, 'co': 599, 'conclude': 671, 'phase': 2527, 'saint': 2976, 'technopolis': 3478, 'memorandum': 2101, 'neudorf': 2255, 'zone': 3900, 'village': 3768, 'strelny': 3332, 'bim': 349, 'comprehensive': 661, 'insight': 1614, 'biography': 354, 'electronically': 1004, 'confirmation': 682, 'upload': 3700, 'catalogue': 497, 'effort': 991, 'lietuvos': 1913, 'respublikos': 2891, 'sveikatos': 3406, 'apsaugos': 195, 'ministerija': 2141, 'uab': 3657, 'lietuva': 1912, 'package': 2430, 'headquarters': 1462, 'signify': 3142, 'era': 1060, 'outcome': 2405, 'sneed': 3198, 'hearing': 1466, 'automatic': 255, 'varnishing': 3740, 'important': 1561, 'jozef': 1712, 'misurec': 2149, 'young': 3892, 'child': 552, 'meego': 2090, 'seoul': 3082, 'tyo': 3655, 'hormone': 1510, 'treatment': 3613, 'em': 1014, 'field': 1198, 'funding': 1318, 'diagnostics': 874, 'quick': 2731, 'ensure': 1042, 'negotiation': 2244, 'tampere': 3451, 'arokarhu': 205, 'scan': 3024, 'disappear': 897, 'sum': 3374, 'temporarily': 3503, 'altia': 125, 'altimo': 127, 'usmanov': 3714, 'welcome': 3826, 'join': 1705, 'employment': 1023, 'blue': 366, 'oulu': 2402, 'terminate': 3510, 'scandinavian': 3026, 'campaign': 464, 'campomos': 466, 'bg': 338, 'ad': 43, 'irrevocably': 1672, 'favor': 1168, 'seem': 3062, 'bottom': 397, 'prepare': 2626, 'answer': 168, 'detail': 861, 'caller': 460, 'regard': 2817, 'mitsubishi': 2150, 'heavy': 1471, 'mhi': 2121, 'undisclosed': 3678, 'electrically': 1001, 'grapevine': 1389, 'rebate': 2781, 'mention': 2102, 'bilbao': 344, 'antwerp': 173, 'hull': 1523, 'iggesunds': 1544, 'bruk': 431, 'paperboard': 2446, 'homeware': 1501, 'kitchen': 1795, 'interior': 1645, 'solid': 3214, 'dz': 962, 'rabobank': 2738, 'jawad': 1699, 'williams': 3843, 'score': 3041, 'impressive': 1562, 'debut': 819, 'jerusalem': 1701, 'jason': 1697, 'yuval': 3893, 'naimi': 2214, 'chip': 555, 'hapoel': 1442, 'visit': 3774, 'enhance': 1037, 'volunteer': 3784, 'depot': 852, 'hd': 1456, 'baltimore': 290, 'neighborhood': 2245, 'sanctuary': 2991, 'yahoo': 3879, 'introduce': 1654, 'malaysian': 2014, 'favorite': 1170, 'nda': 2234, 'perth': 2512, 'installs': 1619, 'tail': 3435, 'lift': 1919, 'factor': 1152, 'tablet': 3430, 'way': 3814, 'hydronic': 1532, 'cooling': 733, 'leipurin': 1886, 'kaukomarkkinat': 1757, 'respondent': 2888, 'advisor': 72, 'precedex': 2614, 'iv': 1686, 'sedation': 3059, 'initially': 1602, 'intubate': 1656, 'mechanically': 2082, 'ventilated': 3750, 'patient': 2470, 'intensive': 1636, 'nationwide': 2227, 'outlet': 2407, 'fesco': 1191, 'nurminen': 2323, 'direct': 889, 'intermodal': 1647, 'rakvere': 2748, 'lihakombinaat': 1922, 'minority': 2145, 'technoparks': 3477, 'strength': 3333, 'apetit': 176, 'competition': 648, 'enthusiasm': 1045, 'noticeable': 2312, 'log': 1958, 'pulpwood': 2711, 'prime': 2643, 'myllypuro': 2211, 'mso': 2197, 'training': 3603, 'module': 2167, 'fulfil': 1310, 'communal': 635, 'megapixel': 2094, 'mouse': 2194, 'instead': 1621, 'need': 2239, 'forever': 1268, 'printing': 2646, 'warmly': 3803, 'lansio': 1847, 'competence': 646, 'reference': 2808, 'onodi': 2362, 'stefan': 3299, 'arxikon': 212, 'srl': 3259, 'michael': 2123, 'frei': 1292, 'sense': 3077, 'db': 811, 'lindsey': 1929, 'liddell': 1909, 'chf': 550, 'intel': 1630, 'atom': 235, 'processor': 2660, 'tremendous': 3615, 'success': 3362, 'pankaj': 2442, 'kedia': 1770, 'ecosystem': 978, 'ultra': 3663, 'mobility': 2158, 'unite': 3686, 'smooth': 3195, 'kveyt': 1826, 'light': 1921, 'variety': 3737, 'suomalainen': 3381, 'pekoni': 2491, 'realignment': 2777, 'holiday': 1497, 'near': 2235, 'tahko': 3434, 'ski': 3172, 'spa': 3232, 'resort': 2883, 'lattelecom': 1859, 'nils': 2274, 'melngailis': 2097, 'explain': 1129, 'blackstone': 361, 'com': 618, 'constantly': 700, 'leminen': 1890, 'anttila': 172, 'rival': 2924, 'tender': 3506, 'cee': 503, 'handelsbanken': 1432, 'cooperative': 738, 'loyalty': 1976, 'lennart': 1895, 'simonsen': 3153, 'kaido': 1738, 'kaare': 1735, 'pig': 2538, 'farm': 1163, 'eek': 983, 'qt': 2724, 'lgpl': 1903, 'installed': 1618, 'renzo': 2854, 'piano': 2534, 'wonderful': 3861, 'skyline': 3178, 'noud': 2314, 'veeger': 3744, 'evp': 1099, 'renewal': 2849, 'version': 3754, 'spring': 3257, 'convert': 729, 'thesis': 3529, 'contest': 714, 'polytechnic': 2579, 'advantage': 68, 'pricing': 2638, 'unmanned': 3690, 'loyal': 1975, 'find': 1214, 'thirteen': 3535, 'meeting': 2092, 'rostelecom': 2945, 'rts': 2959, 'rtkm': 2957, 'consecutive': 687, 'free': 1290, 'seventeen': 3097, 'vdw': 3743, 'lxe': 1987, 'enhances': 1038, 'productivity': 2668, 'keyboard': 1780, 'bidding': 342, 'stage': 3271, 'diesel': 877, 'renewable': 2847, 'feedstock': 1181, 'kaarstroem': 1736, 'tt': 3632, 'equip': 1055, 'ice': 1536, 'safe': 2972, 'plumbing': 2564, 'heat': 1468, 'authorise': 253, 'proceed': 2656, 'literature': 1942, 'jp': 1713, 'morgan': 2180, 'scala': 3021, 'lower': 1973, 'nobel': 2278, 'biocare': 351, 'vehicle': 3746, 'buck': 433, 'flat': 1242, 'tack': 3432, 'underlying': 3673, 'skr': 3176, 'hence': 1479, 'adjusted': 56, 'actually': 42, 'repay': 2857, 'bearing': 313, 'liability': 1904, 'chartered': 543, 'rest': 2892, 'consideration': 692, 'partially': 2455, 'liquidity': 1938, 'eurochem': 1089, 'alexander': 111, 'gavrilov': 1337, 'understand': 3676, 'mou': 2190, 'collaborate': 610, 'preparing': 2628, 'environmental': 1050, 'protection': 2696, 'acknowledge': 25, 'seminar': 3074, 'modern': 2163, 'clean': 580, 'sponsorship': 3254, 'environment': 1049, 'cellphone': 507, 'website': 3821, 'colorful': 616, 'canvas': 472, 'expression': 1136, 'sentiment': 3080, 'growhow': 1408, 'swung': 3420, 'normally': 2296, 'custom': 785, 'shipbuilder': 3119, 'depend': 848, 'streamline': 3329, 'henning': 1480, 'bahr': 283, 'gruppen': 1411, 'praise': 2613, 'lee': 1883, 'hop': 1507, 'pave': 2477, 'collaboration': 611, 'gprs': 1382, 'idea': 1541, 'solidium': 3215, 'proper': 2686, 'predict': 2618, 'skanssi': 3170, 'search': 3047, 'community': 638, 'relevant': 2837, 'powerful': 2608, 'map': 2034, 'indicator': 1588, 'offset': 2347, 'celbi': 504, 'portugal': 2593, 'abb': 3, 'deutsche': 865, 'proud': 2698, 'nomination': 2284, 'committee': 634, 'request': 2869, 'jon': 1707, 'risfelt': 2922, 'admire': 61, 'vivid': 3776, 'startup': 3284, 'curve': 783, 'patricia': 2472, 'dietz': 878, 'productive': 2667, 'mississippi': 2148, 'united': 3687, 'gray': 1392, 'swoope': 3419, 'mda': 2074, 'fujitsu': 1309, 'ntt': 2321, 'docomo': 924, 'lte': 1981, 'juergen': 1718, 'walter': 3798, 'converge': 727, 'vinachem': 3769, 'occasion': 2335, 'kind': 1790, 'rcp': 2768, 'knowhow': 1801, 'cfo': 526, 'andrey': 152, 'ilyin': 1551, 'secure': 3057, 'potash': 2602, 'arab': 197, 'qatar': 2722, 'linkspans': 1933, 'jordan': 1709, 'morocco': 2183, 'ireland': 1669, 'merrill': 2104, 'lynch': 1989, 'campbell': 465, 'paperlinx': 2447, 'neutral': 2256, 'mineracao': 2138, 'ltda': 1980, 'cumerio': 778, 'med': 2084, 'jsco': 1715, 'mika': 2127, 'foremost': 1264, 'plywood': 2568, 'sveza': 3409, 'competency': 647, 'intelligence': 1632, 'specialization': 3239, 'recentlyvia': 2789, 'fimentor': 1207, 'reward': 2911, 'distinguished': 908, 'brokerage': 428, 'true': 3625, 'turning': 3644, 'commercially': 630, 'affordable': 79, 'tco': 3470, 'policy': 2577, 'profitable': 2673, 'effectiveness': 988, 'convenient': 726, 'nearby': 2236, 'jaroszowka': 1695, 'wysockiego': 3876, 'zgody': 3897, 'foundation': 1277, 'required': 2871, 'volotinen': 3782, 'glad': 1361, 'sandberg': 2994, 'autumn': 259, 'telecoms': 3491, 'radio': 2739, 'ladle': 1836, 'bhushan': 339, 'strip': 3339, 'precision': 2617, 'mortar': 2185, 'renovate': 2850, 'ingerois': 1600, 'capable': 475, 'mutual': 2207, 'limit': 1926, 'aluminij': 129, 'dd': 813, 'mostar': 2187, 'anode': 166, 'hk': 1492, 'ruokatalo': 2962, 'trader': 3596, 'man': 2019, 'prosperous': 2695, 'changshu': 537, 'hongmei': 1503, 'kraftliner': 1818, 'stahlberg': 3272, 'vp': 3788, 'lab': 1833, 'excited': 1107, 'ministry': 2142, 'water': 3810, 'tanzania': 3455, 'sanitation': 2997, 'assignment': 226, 'rehabilitation': 2824, 'bukoba': 438, 'musoma': 2206, 'situate': 3165, 'lake': 1841, 'victoria': 3761, 'proceeds': 2657, 'delight': 837, 'handheld': 1433, 'easy': 970, 'bosse': 392, 'beneficial': 326, 'contribute': 723, 'creation': 765, 'airport': 103, 'fennia': 1186, 'student': 3346, 'dean': 817, 'faculty': 1154, 'tkk': 3568, 'colleague': 612, 'aptly': 196, 'remark': 2843, 'fantastic': 1161, 'swiss': 3417, 'franc': 1284, 'sharp': 3110, 'cloud': 598, 'vertical': 3756, 'weather': 3819, 'condition': 672, 'meteorological': 2108, 'rely': 2840, 'reliable': 2839, 'detection': 863, 'please': 2561, 'bjorn': 358, 'wahlroos': 3796, 'accept': 13, 'garry': 1333, 'mcguire': 2072, 'rmg': 2926, 'renovation': 2851, 'moulding': 2191, 'orhangazi': 2390, 'federation': 1178, 'innovation': 1608, 'nexbtl': 2269, 'pkc': 2547, 'nutzfahrzeuge': 2324, 'harness': 1447, 'star': 3281, 'bus': 446, 'spolka': 3252, 'zoo': 3901, 'bit': 357, 'outgo': 2406, 'conferencing': 677, 'file': 1203, 'sharing': 3109, 'attachment': 239, 'taneli': 3452, 'hassinen': 1451, 'perfect': 2500, 'sophisticated': 3222, 'paint': 2437, 'branded': 403, 'approx': 191, 'track': 3591, 'internal': 1648, 'accessible': 15, 'macintosh': 1995, 'transferable': 3606, 'portable': 2588, 'apple': 182, 'ipod': 1667, 'bold': 379, 'red': 2802, 'fabric': 1148, 'beautifully': 315, 'ercols': 1061, 'napoli': 2220, 'sofa': 3206, 'tomtom': 3576, 'assurance': 231, 'eu': 1085, 'maxi': 2066, 'master': 2056, 'maya': 2069, 'joe': 1703, 'doering': 926, 'pride': 2640, 'exposure': 1134, 'bruce': 430, 'hansen': 1441, 'svh': 3410, 'wolverine': 3860, 'innovator': 1610, 'specifically': 3241, 'locally': 1954, 'dover': 940, 'calais': 456, 'route': 2948, 'rauma': 2762, 'timo': 3563, 'suistio': 3369, 'encourage': 1029, 'boater': 373, 'angler': 154, 'newcomer': 2260, 'rbff': 2767, 'frank': 1287, 'peterson': 2519, 'tapeks': 3458, 'noma': 2283, 'cdli': 501, 'highlight': 1485, 'response': 2889, 'carbon': 482, 'disclosure': 900, 'cdp': 502, 'amber': 132, 'ii': 1546, 'final': 1209, 'council': 751, 'sanitas': 2996, 'adapter': 47, 'certified': 522, 'sap': 3001, 'netweaver': 2252, 'endorsement': 1031, 'erp': 1066, 'applaud': 181, 'clarity': 578, 'petition': 2520, 'celebrate': 505, 'fiftieth': 1201, 'anniversary': 157, 'distinctive': 907, 'detach': 860, 'effective': 986, 'surmise': 3396, 'comfort': 623, 'cheap': 545, 'tap': 3456, 'vesa': 3757, 'laisi': 1839, 'sun': 3378, 'alliance': 114, 'slide': 3181, 'suitor': 3371, 'rule': 2960, 'notably': 2309, 'vocollect': 3779, 'warehouse': 3801, 'discounted': 901, 'boom': 385, 'ostrom': 2399, 'story': 3320, 'lure': 1985, 'marilyn': 2042, 'monroe': 2175, 'oko': 2352, 'raiffeisen': 2742, 'concern': 669, 'acquit': 29, 'conspiracy': 699, 'cooper': 734, 'sh': 3100, 'minor': 2144, 'less': 1896, 'constructive': 703, 'manner': 2028, 'virgin': 3771, 'require': 2870, 'like': 1924, 'biotie': 356, 'somaxon': 3219, 'nalmefene': 2215, 'trial': 3618, 'smoke': 3194, 'cessation': 524, 'targeted': 3463, 'irritant': 1673, 'procedural': 2654, 'hassle': 1452, 'chamber': 534, 'survey': 3400, 'obstacle': 2333, 'milestone': 2132, 'critical': 769, 'usp': 3715, 'roadmap': 2928, 'beyond': 337, 'simon': 3152, 'button': 449, 'elqav': 1012, 'industrialisation': 1592, 'although': 124, 'comply': 657, 'directive': 891, 'hydraulics': 1530, 'inception': 1573, 'degridding': 834, 'sand': 2992, 'grease': 1394, 'removal': 2845, 'deodorization': 846, 'far': 1162, 'galvan': 1327, 'avoid': 263, 'super': 3384, 'nasty': 2224, 'eric': 1063, 'schultze': 3036, 'shavlik': 3112, 'paul': 2475, 'patch': 2467, 'participant': 2456, 'nausea': 2231, 'utm': 3718, 'inbound': 1568, 'outbound': 2404, 'attack': 240, 'logical': 1959, 'weakness': 3818, 'sequenced': 3089, 'card': 483, 'apparently': 180, 'utilise': 3717, 'completion': 654, 'dubna': 954, 'seawind': 3051, 'en': 1027, 'got': 1379, 'stick': 3304, 'regal': 2816, 'journey': 1711, 'kapellskar': 1745, 'paldiski': 2438, 'northwestern': 2305, 'short': 3128, 'upon': 3702, 'keskuskatu': 1778, 'backbone': 275, 'pedestrianised': 2488, 'downtown': 942, 'pedestrian': 2487, 'precinct': 2616, 'uncommonly': 3670, 'snow': 3199, 'every': 1097, 'roger': 2936, 'talermo': 3441, 'flsmidth': 1250, 'violate': 3770, 'interrupt': 1653, 'layoff': 1866, 'fierce': 1199, 'storm': 3319, 'tree': 3614, 'exclude': 1109, 'kesbv': 1776, 'utilisation': 3716, 'newly': 2262, 'stavo': 3291, 'contact': 710, 'stavokonsult': 3292, 'housing': 1518, 'kostiainen': 1812, 'vice': 3760, 'lewa': 1900, 'beteiligungs': 335, 'modernisation': 2164, 'nonbinding': 2285, 'aluminium': 130, 'krippl': 1819, 'derive': 855, 'housewares': 1517, 'compete': 645, 'salcomp': 2980, 'globally': 1367, 'swing': 3416, 'propulsion': 2691, 'letter': 1897, 'intent': 1637, 'role': 2938, 'effectively': 987, 'insurer': 1625, 'shenzhen': 3116, 'old': 2353, 'consider': 690, 'refining': 2812, 'bbl': 309, 'subdivision': 3350, 'manages': 2023, 'scania': 3028, 'stanley': 3280, 'recommendable': 2794, 'judgement': 1717, 'research': 2873, 'announced': 159, 'carmaker': 488, 'hyundai': 1533, 'optimistically': 2378, 'mean': 2075, 'flag': 1241, 'seal': 3046, 'leaseback': 1879, 'syndication': 3424, 'acnielsen': 26, 'scantrack': 3029, 'study': 3347, 'soft': 3207, 'drink': 945, 'tver': 3648, 'electric': 999, 'quickly': 2732, 'tb': 3469, 'helander': 1475, 'swiftly': 3415, 'lasse': 1853, 'aho': 97, 'ongoing': 2360, 'mmx': 2155, 'billing': 346, 'load': 1950, 'bulk': 440, 'commence': 626, 'renew': 2846, 'ict': 1539, 'patja': 2471, 'sir': 3162, 'robert': 2931, 'mcalpine': 2070, 'watermark': 3811, 'ia': 1534, 'usa': 3708, 'method': 2109, 'uruguayan': 3707, 'contractor': 720, 'bleaching': 363, 'liner': 1931, 'wash': 3806, 'klabin': 1797, 'borba': 388, 'kft': 1783, 'staffer': 3270, 'fulfill': 1311, 'telenor': 3495, 'estimated': 1080, 'principal': 2644, 'alternative': 123, 'yokohama': 3890, 'nagoya': 2213, 'silver': 3149, 'metropolitan': 2113, 'washington': 3807, 'dc': 812, 'graz': 1393, 'aalborg': 1, 'ink': 1606, 'selected': 3069, 'jens': 1700, 'vodafone': 3780, 'potentially': 2604, 'lifetime': 1917, 'engineer': 1034, 'reason': 2779, 'madison': 1996, 'prnewswire': 2652, 'trademark': 3595, 'registration': 2822, 'orange': 2384, 'iconic': 1538, 'scissor': 3038, 'unveils': 3694, 'jv': 1731, 'ivrcl': 1687, 'bom': 381, 'kaunisvaara': 1760, 'iron': 1671, 'tapuli': 3461, 'sahavaara': 2974, 'deposit': 850, 'navteq': 2233, 'commanding': 625, 'onstar': 2363, 'phil': 2528, 'magney': 1999, 'telematics': 3493, 'minnetonka': 2143, 'maps': 2037, 'database': 808, 'nv': 2325, 'garmin': 1332, 'lg': 1901, 'centralise': 514, 'pet': 2515, 'bottle': 395, 'steadily': 3294, 'strap': 3324, 'tape': 3457, 'dip': 888, 'petcore': 2516, 'singapore': 3158, 'icis': 1537, 'inorganic': 1612, 'coagulant': 600, 'andhra': 150, 'pradesh': 2612, 'southfield': 3231, 'patronage': 2473, 'waive': 3797, 'fee': 1179, 'incur': 1582, 'tune': 3638, 'systeemitiimi': 3427, 'skogberg': 3175, 'claim': 577, 'watertight': 3812, 'door': 936, 'vana': 3733, 'regina': 2818, 'baltica': 289, 'cobalt': 605, 'norilsk': 2292, 'stream': 3328, 'modem': 2161, 'boomeranger': 386, 'indebtedness': 1583, 'uruguay': 3706, 'divestment': 916, 'clearer': 583, 'uplift': 3699, 'iso': 1676, 'certification': 521, 'temporary': 3504, 'salary': 2979, 'premium': 2624, 'closing': 593, 'toward': 3584, 'soapstone': 3202, 'medvezhyegorsk': 2089, 'tulikivi': 3636, 'starting': 3283, 'blyk': 367, 'extended': 1138, 'brinkab': 416, 'scaffolding': 3020, 'lkab': 1947, 'pellet': 2492, 'kiruna': 1794, 'capitalize': 479, 'similar': 3151, 'interbank': 1640, 'camara': 461, 'interbancaria': 1639, 'de': 814, 'pagamentos': 2433, 'cip': 569, 'sterling': 3302, 'commerce': 628, 'internationalize': 1650, 'ntc': 2319, 'geographical': 1347, 'bohemia': 378, 'czechrepublic': 796, 'initiative': 1604, 'chosen': 560, 'geographic': 1346, 'brno': 421, 'analyze': 148, 'fit': 1234, 'peter': 2517, 'wiklof': 3842, 'rutav': 2965, 'rocket': 2934, 'shb': 3113, 'aktav': 107, 'svenska': 3407, 'austin': 247, 'texas': 3518, 'compression': 662, 'retrofit': 2903, 'tarmo': 3465, 'noop': 2289, 'dental': 845, 'oral': 2383, 'hammaslaakarit': 1429, 'interactive': 1638, 'strongest': 3341, 'isps': 1677, 'subsidy': 3356, 'honkamaa': 1505, 'viewpoint': 3765, 'mformation': 2120, 'interoperability': 1652, 'proven': 2700, 'assume': 229, 'duty': 959, 'activate': 33, 'tectia': 3483, 'appoint': 185, 'bristol': 419, 'pound': 2606, 'stacker': 3267, 'ee': 982, 'wcdma': 3815, 'modular': 2166, 'flexi': 1244, 'java': 1698, 'bali': 286, 'sumatra': 3375, 'batam': 304, 'correspond': 746, 'correspondingly': 748, 'optimization': 2379, 'ineta': 1595, 'zaharova': 3895, 'lvl': 1986, 'destia': 859, 'aulasmaa': 246, 'consist': 693, 'kopijyva': 1807, 'sokonet': 3210, 'southaven': 3227, 'bidder': 341, 'await': 264, 'workforce': 3865, 'pori': 2586, 'christmas': 562, 'till': 3558, 'tamglass': 3449, 'finton': 1223, 'personnel': 2511, 'permanently': 2507, 'salo': 2982, 'expands': 1119, 'kong': 1806, 'confectionery': 675, 'unlimited': 3689, 'cincinnati': 567, 'ohio': 2349, 'hire': 1489, 'mechanical': 2081, 'jyvaeskylae': 1733, 'invoicing': 1664, 'investigate': 1660, 'tighten': 3552, 'franchising': 1286, 'nike': 2273, 'administrative': 59, 'scanfil': 3027, 'notice': 2311, 'sievi': 3136, 'additionally': 51, 'salaried': 2978, 'compensation': 644, 'giant': 1358, 'wipro': 3853, 'relate': 2830, 'berlin': 331, 'person': 2509, 'kirkkonummi': 1793, 'nivala': 2277, 'dub': 952, 'gap': 1330, 'unbanked': 3665, 'novator': 2316, 'directly': 892, 'headquarter': 1461, 'gsk': 1412, 'dartford': 806, 'globe': 1368, 'newswire': 2268, 'exercise': 1115, 'land': 1844, 'kyroskoski': 1830, 'kyro': 1828, 'maritim': 2045, 'sandanger': 2993, 'headcount': 1460, 'hundred': 1525, 'opus': 2382, 'italian': 1682, 'cvs': 793, 'technoports': 3479, 'cv': 791, 'handli': 1436, 'drug': 951, 'pharmacy': 2526, 'monopoly': 2174, 'apoteket': 178, 'recycled': 2800, 'furniture': 1320, 'elsewhere': 1013, 'jyvaskyla': 1734, 'begin': 320, 'churn': 566, 'courtship': 758, 'mapping': 2036, 'conciliator': 670, 'juhani': 1720, 'salonius': 2985, 'apart': 174, 'montevideo': 2176, 'reactor': 2771, 'fennovoima': 1187, 'tvo': 3649, 'statutory': 3290, 'streamlining': 3331, 'vsevolozhsk': 3790, 'leningrad': 1894, 'kim': 1789, 'gran': 1387, 'told': 3573, 'reporter': 2862, 'issued': 1681, 'papermaker': 2448, 'coverage': 760, 'nepal': 2247, 'population': 2585, 'duration': 956, 'nastola': 2223, 'regular': 2823, 'arrangement': 207, 'clerical': 585, 'anjalankoski': 156, 'hollola': 1498, 'jarvenpaa': 1696, 'karhula': 1750, 'valkeakoski': 3729, 'leakage': 1875, 'gypsum': 1421, 'pond': 2580, 'detect': 862, 'raahe': 2737, 'laitinen': 1840, 'longer': 1963, 'announcement': 160, 'france': 1285, 'unchanged': 3668, 'ornav': 2394, 'yekaterinburg': 3884, 'fly': 1253, 'communicate': 636, 'latvenergo': 1861, 'xpower': 3878, 'faller': 1159, 'opna': 2374, 'pollex': 2578, 'strand': 3322, 'associate': 227, 'shut': 3132, 'ammonia': 140, 'billingham': 347, 'ince': 1571, 'talk': 3442, 'planning': 2551, 'execution': 1112, 'immediately': 1554, 'telling': 3502, 'amsterdam': 145, 'netherlands': 2251, 'parent': 2451, 'visa': 3772, 'wave': 3813, 'taiwan': 3437, 'korea': 1808, 'southeast': 3228, 'jung': 1727, 'fh': 1194, 'roi': 2937, 'ssh': 3261, 'pm': 2569, 'obtain': 2334, 'tikkurila': 3557, 'warning': 3804, 'lye': 1988, 'leak': 1874, 'occur': 2338, 'acando': 11, 'acanb': 10, 'kronor': 1821, 'perkonoja': 2505, 'stood': 3314, 'myllykoski': 2209, 'reuters': 2906, 'malting': 2018, 'industrialization': 1593, 'nation': 2225, 'qualcomm': 2726, 'few': 1192, 'cerberus': 518, 'newpage': 2263, 'mixed': 2152, 'cast': 496, 'ems': 1024, 'laboratory': 1834, 'consolidation': 698, 'equivalent': 1058, 'tightened': 3553, 'cutting': 790, 'dampen': 802, 'slight': 3182, 'restructure': 2896, 'lean': 1876, 'purchasing': 2713, 'rationalize': 2761, 'permit': 2508, 'chp': 561, 'vartan': 3741, 'lundbeck': 1983, 'kick': 1784, 'court': 756, 'dismiss': 902, 'instance': 1620, 'fasten': 1165, 'trim': 3621, 'merge': 2103, 'snag': 3197, 'reject': 2828, 'seppanen': 3087, 'emt': 1026, 'slogan': 3185, 'across': 30, 'mislead': 2147, 'case': 494, 'certainly': 520, 'disagree': 895, 'tornio': 3581, 'suspected': 3402, 'possible': 2598, 'bed': 317, 'worry': 3871, 'night': 2272, 'bodily': 374, 'injury': 1605, 'quadruple': 2725, 'trace': 3589, 'toxic': 3588, 'osmium': 2398, 'tetroxide': 3517, 'northernmost': 2303, 'gulf': 1417, 'bothnia': 394, 'cabin': 454, 'crew': 767, 'sel': 3067, 'hasten': 1453, 'collective': 614, 'bargaining': 297, 'strike': 3338, 'laavainen': 1832, 'reactive': 2770, 'inconsistent': 1578, 'antti': 171, 'orkola': 2393, 'depress': 853, 'laborious': 1835, 'stressful': 3337, 'arcelormittal': 199, 'lakshmi': 1842, 'mittal': 2151, 'furnace': 1319, 'redundant': 2806, 'ground': 1405, 'simultaneously': 3156, 'kallasvuo': 1740, 'reshuffle': 2878, 'iphone': 1666, 'rim': 2918, 'blackberry': 360, 'bergqvist': 329, 'resign': 2881, 'chairmanship': 532, 'kermansavi': 1775, 'save': 3011, 'rvi': 2967, 'stop': 3315, 'oversupply': 2418, 'presently': 2631, 'negotiating': 2243, 'disappointment': 899, 'fold': 1256, 'awkward': 267, 'thing': 3533, 'police': 2576, 'terrorize': 3514, 'male': 2015, 'gunpoint': 1418, 'maple': 2035, 'avenue': 261, 'shoot': 3125, 'kidnap': 1785, 'korhonen': 1809, 'editor': 980, 'lapin': 1849, 'kansa': 1744, 'slash': 3179, 'left': 1884, 'powerless': 2609, 'execute': 1111, 'threat': 3539, 'italy': 1683, 'shipbuilding': 3120, 'liquidate': 1937, 'loose': 1965, 'prosecutor': 2692, 'upset': 3704, 'bad': 278, 'barbeque': 294, 'click': 586, 'contain': 711, 'mail': 2002, 'bogus': 377, 'imitate': 1552, 'retrieve': 2902, 'cancel': 469, 'respond': 2887, 'pose': 2595, 'biofuels': 353, 'usage': 3709, 'renewables': 2848, 'thief': 3532, 'steal': 3296, 'smith': 3193, 'mara': 2038, 'chuck': 565, 'consultant': 706, 'wife': 3840, 'spending': 3245, 'belarus': 323, 'oao': 2329, 'grodno': 1403, 'decaliter': 822, 'suspect': 3401, 'stole': 3310, 'burgundy': 444, 'nissan': 2276, 'altima': 126, 'advisory': 73, 'ntsb': 2320, 'subsequent': 3354, 'testing': 3516, 'train': 3601, 'intermittently': 1646, 'fail': 1155, 'electricity': 1002, 'household': 1516, 'suomussalmi': 3383, 'kuhmo': 1824, 'codetermination': 608, 'sawn': 3017, 'timber': 3560, 'shed': 3114, 'grade': 1384, 'complexity': 656, 'routine': 2949, 'yen': 3885, 'fill': 1205, 'projection': 2679, 'counter': 752, 'border': 389, 'guard': 1414, 'mooring': 2178, 'checkpoint': 546, 'yet': 3887, 'uncertainty': 3667, 'lassila': 1854, 'tikanoja': 3555, 'petrol': 2521, 'wiio': 3841, 'dolce': 931, 'gabbana': 1324, 'declare': 826, 'unikko': 3682, 'floral': 1248, 'invalid': 1657, 'cancellation': 470, 'cause': 499, 'bofa': 376, 'downgrade': 941, 'sterv': 3303, 'underperf': 3674, 'stoppage': 3316, 'hack': 1422, 'extra': 1144, 'nefarious': 2240, 'tweet': 3650, 'enough': 1040, 'surfer': 3394, 'cursor': 782, 'trigger': 3619, 'uncertain': 3666, 'coated': 603, 'fin': 1208, 'asphalt': 221, 'lion': 1934, 'cartel': 493, 'closure': 594, 'trouble': 3623, 'archipelago': 200, 'island': 1675, 'threaten': 3540, 'exploration': 1131, 'hbos': 1455, 'plummet': 2565, 'penny': 2493, 'divisional': 919, 'emsa': 1025, 'juri': 1728, 'lember': 1888, 'hear': 1465, 'inform': 1596, 'sold': 3212, 'frost': 1300, 'delay': 835, 'courthouse': 757, 'saltonstall': 2986, 'imputed': 1566, 'burden': 443, 'stem': 3300, 'thicker': 3531, 'aaland': 0, 'eat': 971, 'write': 3874, 'sizable': 3168, 'swedbank': 3411, 'dnb': 922, 'backdrop': 276, 'meltdown': 2098, 'relation': 2832, 'damage': 800, 'ashley': 214, 'criticise': 770, 'cry': 774, 'baby': 273, 'karvinen': 1754, 'describe': 856, 'tariff': 3464, 'hike': 1487, 'hard': 1445, 'maritime': 2046, 'ignore': 1545, 'icy': 1540, 'deem': 829, 'tomorrow': 3575, 'simply': 3155, 'neteller': 2250, 'grievance': 1399, 'overtime': 2419, 'meiklejohn': 2095, 'normalize': 2295, 'devalue': 867, 'york': 3891, 'tight': 3551, 'conduct': 674, 'taloustutkimus': 3447, 'badly': 279, 'prepared': 2627, 'maaseudun': 1990, 'tulevaisuus': 3635, 'euronext': 1090, 'paris': 2452, 'kiosk': 1792, 'cinema': 568, 'suffer': 3366, 'black': 359, 'roce': 2933, 'holmen': 1499, 'dismissed': 903, 'matter': 2061, 'unless': 3688, 'settle': 3095, 'thyssenkrupp': 3546, 'otis': 2401, 'schindler': 3033, 'alleged': 113, 'twelve': 3651, 'dark': 805, 'spot': 3256, 'horizon': 1509, 'bottled': 396, 'lodge': 1957, 'prolongation': 2680, 'stable': 3266, 'reflect': 2813, 'conservative': 689, 'raab': 2736, 'treasury': 3612, 'sufficient': 3367, 'karhinen': 1749, 'exciting': 1108, 'huge': 1521, 'unique': 3684, 'ranking': 2752, 'preferred': 2620, 'pure': 2714, 'play': 2557, 'active': 35, 'bo': 370, 'annvik': 165, 'morna': 2181, 'cowie': 761, 'lovely': 1970, 'consistent': 695, 'lie': 1911, 'dutch': 958, 'excellently': 1104, 'driving': 948, 'stability': 3265, 'brake': 401, 'finnishness': 1221, 'understanding': 3677, 'knowledge': 1802, 'hanninen': 1439, 'saysjouni': 3019, 'haikarainen': 1423, 'clothes': 596, 'comfortable': 624, 'skin': 3173, 'breathe': 410, 'love': 1969, 'activision': 38, 'kelly': 1772, 'brockpahler': 426, 'fact': 1151, 'election': 998, 'tim': 3559, 'cockroft': 606, 'excellent': 1103, 'moreover': 2179, 'singer': 3159, 'friedlander': 1298, 'broking': 429, 'unprofitable': 3692, 'newfound': 2261, 'dirk': 894, 'jones': 1708, 'citi': 574, 'custody': 784, 'adaptation': 46, 'adequate': 53, 'fix': 1239, 'rory': 2943, 'fitzgerald': 1237, 'servicing': 3093, 'telecominvest': 3489, 'argument': 202, 'convince': 731, 'dubai': 953, 'music': 2205, 'enjoy': 1039, 'kapthing': 1747, 'block': 365, 'lamp': 1843, 'harri': 1448, 'koskinen': 1810, 'bestseller': 334, 'signal': 3138, 'smartphones': 3191, 'connect': 684, 'silja': 3146, 'attribute': 243, 'trailer': 3600, 'sky': 3177, 'wind': 3847, 'riga': 2915, 'financially': 1212, 'tough': 3583, 'tel': 3486, 'bts': 432, 'configure': 680, 'upgraded': 3698, 'diagnose': 872, 'remotely': 2844, 'backlog': 277, 'gross': 1404, 'hostile': 1511, 'lp': 1977, 'gallerix': 1326, 'restriction': 2895, 'dairy': 799, 'driver': 947, 'leave': 1882, 'durham': 957, 'administrator': 60, 'indicate': 1587, 'irish': 1670, 'fluctuate': 1251, 'unstable': 3693, 'little': 1946, 'sharply': 3111, 'disappointing': 898, 'airspace': 104, 'recommence': 2793, 'stranded': 3323, 'accommodation': 17, 'expire': 1128, 'embroil': 1016, 'disagreement': 896, 'royalty': 2951, 'boycott': 399, 'task': 3466, 'refuse': 2815, 'determine': 864, 'wage': 3794, 'calculate': 457, 'failed': 1156, 'samsung': 2989, 'fire': 1224, 'madoff': 1997, 'ponzi': 2582, 'scheme': 3032, 'vanhanen': 3734, 'damaging': 801, 'arrive': 208, 'putin': 2720, 'lahti': 1837, 'mile': 2131, 'altogether': 128, 'largely': 1851, 'barrel': 298, 'amid': 139, 'difficult': 880, 'grapple': 1391, 'streamlined': 3330, 'recall': 2785, 'traceability': 3590, 'despite': 858, 'fear': 1173, 'bctmp': 311, 'geberit': 1339, 'blame': 362, 'shrank': 3130, 'impairment': 1557, 'raiso': 2746, 'cholesterol': 558, 'benecol': 325, 'franklin': 1289, 'lorry': 1966, 'depositary': 851, 'ease': 967, 'seikku': 3065, 'alholma': 112, 'pietarsaari': 2537, 'repurchase': 2868, 'shall': 3103, 'distributable': 909, 'budapest': 434, 'mti': 2198, 'pecs': 2486, 'zoltan': 3899, 'aero': 74, 'higher': 1484, 'weaken': 3817, 'aug': 244, 'profile': 2670, 'tube': 3633, 'halve': 1427, 'reveal': 2907, 'axa': 268, 'par': 2450, 'slid': 3180, 'ing': 1599, 'plunge': 2566, 'norvestia': 2306, 'shrink': 3131, 'gmt': 1370, 'introduction': 1655, 'diminish': 886, 'aforementioned': 80, 'cd': 500, 'maturity': 2065, 'delighted': 838, 'continuation': 716, 'school': 3035, 'kindergarten': 1791, 'antibody': 169, 'repeated': 2859, 'dos': 937, 'generally': 1342, 'tolerate': 3574, 'pharmacokinetic': 2525, 'characteristic': 538, 'psoriasis': 2705, 'rheumatoid': 2912, 'arthritis': 210, 'ra': 2735, 'freenet': 1291, 'frankfurt': 1288, 'drillisch': 944, 'breakup': 409, 'krone': 1820, 'rebound': 2782, 'centricity': 516, 'seasonal': 3049, 'fluctuation': 1252, 'substantially': 3357, 'bread': 408, 'kauhava': 1756, 'slump': 3188, 'snowfall': 3200, 'steelmaker': 3298, 'drought': 950, 'unconfirmed': 3671, 'hurt': 1527, 'trygvesta': 3630, 'beef': 318, 'unfortunately': 3679, 'judge': 1716, 'veracel': 3752, 'aggregate': 88, 'burrill': 445, 'notify': 2313, 'directed': 890, 'pequot': 2496, 'external': 1143, 'partly': 2461, 'termination': 3511, 'hss': 1520, 'newsroom': 2267, 'keywords': 1782, 'operative': 2372, 'surprise': 3398, 'overshadow': 2417}\n"
     ]
    }
   ],
   "source": [
    "# Tfidf_vect가 Corps의 text_final을 통해 학습한 단어\n",
    "print(Tfidf_vect.vocabulary_)"
   ]
  },
  {
   "cell_type": "code",
   "execution_count": 142,
   "id": "46de9016",
   "metadata": {},
   "outputs": [
    {
     "name": "stdout",
     "output_type": "stream",
     "text": [
      "  (0, 3882)\t0.15032775421199263\n",
      "  (0, 3851)\t0.35415951551033986\n",
      "  (0, 3685)\t0.2340443080737865\n",
      "  (0, 3200)\t0.3733414874572969\n",
      "  (0, 3188)\t0.3733414874572969\n",
      "  (0, 2981)\t0.1382267577611237\n",
      "  (0, 2883)\t0.35415951551033986\n",
      "  (0, 2583)\t0.32136771787663004\n",
      "  (0, 2009)\t0.28478921469798174\n",
      "  (0, 1855)\t0.2140395577566651\n",
      "  (0, 1594)\t0.23530594454305345\n",
      "  (0, 1491)\t0.297201291249725\n",
      "  (1, 3496)\t0.2999617910200092\n",
      "  (1, 3428)\t0.22825278025440984\n",
      "  (1, 3015)\t0.322252285440226\n",
      "  (1, 2728)\t0.17612235750946675\n",
      "  (1, 2702)\t0.26151177007894966\n",
      "  (1, 2671)\t0.1375692720329122\n",
      "  (1, 2504)\t0.16480288516621236\n",
      "  (1, 2426)\t0.18133473863586042\n",
      "  (1, 2249)\t0.1495527932410069\n",
      "  (1, 1855)\t0.22825278025440984\n",
      "  (1, 1724)\t0.3121284342897002\n",
      "  (1, 1474)\t0.21395712603782366\n",
      "  (1, 1220)\t0.14653730445335814\n",
      "  :\t:\n",
      "  (1372, 966)\t0.3843136826602033\n",
      "  (1373, 3882)\t0.16710815251388816\n",
      "  (1373, 3732)\t0.2865743167167667\n",
      "  (1373, 2687)\t0.32536420405856203\n",
      "  (1373, 1661)\t0.25880356634203794\n",
      "  (1373, 1371)\t0.2743840084487467\n",
      "  (1373, 1157)\t0.32536420405856203\n",
      "  (1373, 1087)\t0.26491017110867754\n",
      "  (1373, 1030)\t0.25880356634203794\n",
      "  (1373, 963)\t0.23527968428375529\n",
      "  (1373, 639)\t0.14163003658516682\n",
      "  (1373, 348)\t0.5686722640894883\n",
      "  (1374, 2429)\t0.4034626464729939\n",
      "  (1374, 1594)\t0.2787762313492273\n",
      "  (1374, 1506)\t0.4195867436420676\n",
      "  (1374, 1072)\t0.3720971211028618\n",
      "  (1374, 633)\t0.38073700790230813\n",
      "  (1374, 215)\t0.3521060893196561\n",
      "  (1374, 25)\t0.4195867436420676\n",
      "  (1375, 1873)\t0.39109719941363097\n",
      "  (1375, 1651)\t0.39830882612482654\n",
      "  (1375, 639)\t0.16489505434261245\n",
      "  (1375, 439)\t0.44074888291449105\n",
      "  (1375, 338)\t0.48318893970415555\n",
      "  (1375, 43)\t0.48318893970415555\n"
     ]
    }
   ],
   "source": [
    "# Train_X_Tfidf의 (행 인덱스, 고유숫자) TF-IDF에 의해 계산된 값\n",
    "# (해당 행에서의 해당 단어 빈도(TF) * log(해당단어가 존재하는 행 수/전체 Corpus의 행수)\n",
    "print(Train_X_Tfidf)"
   ]
  },
  {
   "cell_type": "code",
   "execution_count": 143,
   "id": "5e7e0b22",
   "metadata": {},
   "outputs": [
    {
     "data": {
      "text/plain": [
       "SVC(kernel='linear')"
      ]
     },
     "execution_count": 143,
     "metadata": {},
     "output_type": "execute_result"
    }
   ],
   "source": [
    "# c-SVC의 c값은 1, kernel은 linear (c값이 커지면 오차 허용치 감소됨 -> OVER FIT, 작아지면 오차 허용치 증가 -> UNDER FIT)\n",
    "# degree는 필요없음(poly 커널일 경우 최고차항 설정 파라미터)\n",
    "# gamma는 필요없음(‘rbf’, ‘poly’ and ‘sigmoid’ 커널의 경우 감마값이 클수록 곡선의 굴절률 상승)\n",
    "SVM = svm.SVC(C=1.0, kernel='linear')\n",
    "SVM.fit(Train_X_Tfidf,Train_Y)"
   ]
  },
  {
   "cell_type": "code",
   "execution_count": 144,
   "id": "9d5d761f",
   "metadata": {},
   "outputs": [],
   "source": [
    "# test 데이터셋에 대한 c-svc의 예측\n",
    "predictions_SVM = SVM.predict(Test_X_Tfidf)"
   ]
  },
  {
   "cell_type": "code",
   "execution_count": 145,
   "id": "9068f23b",
   "metadata": {},
   "outputs": [
    {
     "name": "stdout",
     "output_type": "stream",
     "text": [
      "SVM Accuracy Score ->  83.92554991539764\n"
     ]
    }
   ],
   "source": [
    "# test 데이터셋에 대한 c-svc의 예측 정확도\n",
    "print(\"SVM Accuracy Score -> \",accuracy_score(predictions_SVM, Test_Y)*100)"
   ]
  },
  {
   "cell_type": "code",
   "execution_count": 151,
   "id": "3439515c",
   "metadata": {},
   "outputs": [],
   "source": [
    "headline = pd.read_csv (r'1109news_headline.csv', encoding='latin-1')"
   ]
  },
  {
   "cell_type": "code",
   "execution_count": 152,
   "id": "cf4e7b1a",
   "metadata": {},
   "outputs": [
    {
     "data": {
      "text/html": [
       "<div>\n",
       "<style scoped>\n",
       "    .dataframe tbody tr th:only-of-type {\n",
       "        vertical-align: middle;\n",
       "    }\n",
       "\n",
       "    .dataframe tbody tr th {\n",
       "        vertical-align: top;\n",
       "    }\n",
       "\n",
       "    .dataframe thead th {\n",
       "        text-align: right;\n",
       "    }\n",
       "</style>\n",
       "<table border=\"1\" class=\"dataframe\">\n",
       "  <thead>\n",
       "    <tr style=\"text-align: right;\">\n",
       "      <th></th>\n",
       "      <th>Unnamed: 0</th>\n",
       "      <th>news_title</th>\n",
       "    </tr>\n",
       "  </thead>\n",
       "  <tbody>\n",
       "    <tr>\n",
       "      <th>0</th>\n",
       "      <td>0</td>\n",
       "      <td>\"Ethereum when:1d\" - Google News</td>\n",
       "    </tr>\n",
       "    <tr>\n",
       "      <th>1</th>\n",
       "      <td>1</td>\n",
       "      <td>Bitcoin and Ethereum prices jump to new record...</td>\n",
       "    </tr>\n",
       "    <tr>\n",
       "      <th>2</th>\n",
       "      <td>2</td>\n",
       "      <td>Crypto Price Prediction: Bitcoin Could Lose It...</td>\n",
       "    </tr>\n",
       "    <tr>\n",
       "      <th>3</th>\n",
       "      <td>3</td>\n",
       "      <td>Bitcoin, Ether prices hit new all-time records...</td>\n",
       "    </tr>\n",
       "    <tr>\n",
       "      <th>4</th>\n",
       "      <td>4</td>\n",
       "      <td>Discord CEO Hints at Ethereum Compatibility - ...</td>\n",
       "    </tr>\n",
       "  </tbody>\n",
       "</table>\n",
       "</div>"
      ],
      "text/plain": [
       "   Unnamed: 0                                         news_title\n",
       "0           0                   \"Ethereum when:1d\" - Google News\n",
       "1           1  Bitcoin and Ethereum prices jump to new record...\n",
       "2           2  Crypto Price Prediction: Bitcoin Could Lose It...\n",
       "3           3  Bitcoin, Ether prices hit new all-time records...\n",
       "4           4  Discord CEO Hints at Ethereum Compatibility - ..."
      ]
     },
     "execution_count": 152,
     "metadata": {},
     "output_type": "execute_result"
    }
   ],
   "source": [
    "headline.head()"
   ]
  },
  {
   "cell_type": "code",
   "execution_count": 153,
   "id": "3055f799",
   "metadata": {},
   "outputs": [],
   "source": [
    "# dataset 전처리 : inplace=true로 함으로써 Corpus 자체에 저장\n",
    "headline['news_title'].dropna(inplace=True)\n",
    "# dataset 전처리 : text를 소문자로 변환\n",
    "headline['news_title'] = [entry.lower() for entry in headline['news_title']]\n",
    "# dataset 전처리 : 각 텍스트 행에 대해 단어, 구, 등 의미있는 단위로 분할(토큰화)\n",
    "headline['news_title']= [word_tokenize(entry) for entry in headline['news_title']]"
   ]
  },
  {
   "cell_type": "code",
   "execution_count": 154,
   "id": "3ddb08e7",
   "metadata": {},
   "outputs": [
    {
     "data": {
      "text/html": [
       "<div>\n",
       "<style scoped>\n",
       "    .dataframe tbody tr th:only-of-type {\n",
       "        vertical-align: middle;\n",
       "    }\n",
       "\n",
       "    .dataframe tbody tr th {\n",
       "        vertical-align: top;\n",
       "    }\n",
       "\n",
       "    .dataframe thead th {\n",
       "        text-align: right;\n",
       "    }\n",
       "</style>\n",
       "<table border=\"1\" class=\"dataframe\">\n",
       "  <thead>\n",
       "    <tr style=\"text-align: right;\">\n",
       "      <th></th>\n",
       "      <th>Unnamed: 0</th>\n",
       "      <th>news_title</th>\n",
       "    </tr>\n",
       "  </thead>\n",
       "  <tbody>\n",
       "    <tr>\n",
       "      <th>0</th>\n",
       "      <td>0</td>\n",
       "      <td>[``, ethereum, when:1d, '', -, google, news]</td>\n",
       "    </tr>\n",
       "    <tr>\n",
       "      <th>1</th>\n",
       "      <td>1</td>\n",
       "      <td>[bitcoin, and, ethereum, prices, jump, to, new...</td>\n",
       "    </tr>\n",
       "    <tr>\n",
       "      <th>2</th>\n",
       "      <td>2</td>\n",
       "      <td>[crypto, price, prediction, :, bitcoin, could,...</td>\n",
       "    </tr>\n",
       "    <tr>\n",
       "      <th>3</th>\n",
       "      <td>3</td>\n",
       "      <td>[bitcoin, ,, ether, prices, hit, new, all-time...</td>\n",
       "    </tr>\n",
       "    <tr>\n",
       "      <th>4</th>\n",
       "      <td>4</td>\n",
       "      <td>[discord, ceo, hints, at, ethereum, compatibil...</td>\n",
       "    </tr>\n",
       "  </tbody>\n",
       "</table>\n",
       "</div>"
      ],
      "text/plain": [
       "   Unnamed: 0                                         news_title\n",
       "0           0       [``, ethereum, when:1d, '', -, google, news]\n",
       "1           1  [bitcoin, and, ethereum, prices, jump, to, new...\n",
       "2           2  [crypto, price, prediction, :, bitcoin, could,...\n",
       "3           3  [bitcoin, ,, ether, prices, hit, new, all-time...\n",
       "4           4  [discord, ceo, hints, at, ethereum, compatibil..."
      ]
     },
     "execution_count": 154,
     "metadata": {},
     "output_type": "execute_result"
    }
   ],
   "source": [
    "headline.head()"
   ]
  },
  {
   "cell_type": "code",
   "execution_count": 155,
   "id": "679d9072",
   "metadata": {},
   "outputs": [],
   "source": [
    "# lemmenting/steming(문맥에 따른 어근분류)을 위한 전 과정 - wordnet(wn)에 명사,\n",
    "# 형용사, 동사, 부사 태그 추가\n",
    "tag_map = defaultdict(lambda : wn.NOUN)\n",
    "tag_map['J'] = wn.ADJ\n",
    "tag_map['V'] = wn.VERB\n",
    "tag_map['R'] = wn.ADV\n",
    "# 자연어처리 : text 열의 각 행에 대한 토큰을 문맥에 따라 어근으로 분류하고 \n",
    "# text_final열에 추가\n",
    "for index,entry in enumerate(headline['news_title']):\n",
    "    # 저장될 리스트 생성\n",
    "    Final_words = []\n",
    "    # WordNetLemmatizer() 초기화\n",
    "    word_Lemmatized = WordNetLemmatizer()\n",
    "    # nltk의 pos_tag함수를 통해 각각의 토큰에 대한 태그를 출력\n",
    "    #(태그=명사(N), 형용사(J), 동사(V), 부사(R))  \n",
    "    for word, tag in pos_tag(entry):\n",
    "        # 각각의 토큰이 stop word(a, the, is, are 등)이고 문자이면 리스트에 추가\n",
    "        if word not in stopwords.words('english') and word.isalpha():\n",
    "            word_Final = word_Lemmatized.lemmatize(word,tag_map[tag[0]])\n",
    "            Final_words.append(word_Final)\n",
    "    # Corpus의 새로운 열 text_final에 생성된 리스트 추가(태그에 해당하면 추가)\n",
    "    headline.loc[index,'text_final'] = str(Final_words)"
   ]
  },
  {
   "cell_type": "code",
   "execution_count": 156,
   "id": "043d0ea1",
   "metadata": {},
   "outputs": [
    {
     "data": {
      "text/html": [
       "<div>\n",
       "<style scoped>\n",
       "    .dataframe tbody tr th:only-of-type {\n",
       "        vertical-align: middle;\n",
       "    }\n",
       "\n",
       "    .dataframe tbody tr th {\n",
       "        vertical-align: top;\n",
       "    }\n",
       "\n",
       "    .dataframe thead th {\n",
       "        text-align: right;\n",
       "    }\n",
       "</style>\n",
       "<table border=\"1\" class=\"dataframe\">\n",
       "  <thead>\n",
       "    <tr style=\"text-align: right;\">\n",
       "      <th></th>\n",
       "      <th>Unnamed: 0</th>\n",
       "      <th>news_title</th>\n",
       "      <th>text_final</th>\n",
       "    </tr>\n",
       "  </thead>\n",
       "  <tbody>\n",
       "    <tr>\n",
       "      <th>0</th>\n",
       "      <td>0</td>\n",
       "      <td>[``, ethereum, when:1d, '', -, google, news]</td>\n",
       "      <td>['ethereum', 'google', 'news']</td>\n",
       "    </tr>\n",
       "    <tr>\n",
       "      <th>1</th>\n",
       "      <td>1</td>\n",
       "      <td>[bitcoin, and, ethereum, prices, jump, to, new...</td>\n",
       "      <td>['bitcoin', 'ethereum', 'price', 'jump', 'new'...</td>\n",
       "    </tr>\n",
       "    <tr>\n",
       "      <th>2</th>\n",
       "      <td>2</td>\n",
       "      <td>[crypto, price, prediction, :, bitcoin, could,...</td>\n",
       "      <td>['crypto', 'price', 'prediction', 'bitcoin', '...</td>\n",
       "    </tr>\n",
       "    <tr>\n",
       "      <th>3</th>\n",
       "      <td>3</td>\n",
       "      <td>[bitcoin, ,, ether, prices, hit, new, all-time...</td>\n",
       "      <td>['bitcoin', 'ether', 'price', 'hit', 'new', 'r...</td>\n",
       "    </tr>\n",
       "    <tr>\n",
       "      <th>4</th>\n",
       "      <td>4</td>\n",
       "      <td>[discord, ceo, hints, at, ethereum, compatibil...</td>\n",
       "      <td>['discord', 'ceo', 'hint', 'ethereum', 'compat...</td>\n",
       "    </tr>\n",
       "  </tbody>\n",
       "</table>\n",
       "</div>"
      ],
      "text/plain": [
       "   Unnamed: 0                                         news_title  \\\n",
       "0           0       [``, ethereum, when:1d, '', -, google, news]   \n",
       "1           1  [bitcoin, and, ethereum, prices, jump, to, new...   \n",
       "2           2  [crypto, price, prediction, :, bitcoin, could,...   \n",
       "3           3  [bitcoin, ,, ether, prices, hit, new, all-time...   \n",
       "4           4  [discord, ceo, hints, at, ethereum, compatibil...   \n",
       "\n",
       "                                          text_final  \n",
       "0                     ['ethereum', 'google', 'news']  \n",
       "1  ['bitcoin', 'ethereum', 'price', 'jump', 'new'...  \n",
       "2  ['crypto', 'price', 'prediction', 'bitcoin', '...  \n",
       "3  ['bitcoin', 'ether', 'price', 'hit', 'new', 'r...  \n",
       "4  ['discord', 'ceo', 'hint', 'ethereum', 'compat...  "
      ]
     },
     "execution_count": 156,
     "metadata": {},
     "output_type": "execute_result"
    }
   ],
   "source": [
    "headline.head()"
   ]
  },
  {
   "cell_type": "code",
   "execution_count": 159,
   "id": "9c900383",
   "metadata": {},
   "outputs": [],
   "source": [
    "target_x = headline['text_final']"
   ]
  },
  {
   "cell_type": "code",
   "execution_count": 160,
   "id": "a27e5821",
   "metadata": {},
   "outputs": [
    {
     "data": {
      "text/plain": [
       "0                        ['ethereum', 'google', 'news']\n",
       "1     ['bitcoin', 'ethereum', 'price', 'jump', 'new'...\n",
       "2     ['crypto', 'price', 'prediction', 'bitcoin', '...\n",
       "3     ['bitcoin', 'ether', 'price', 'hit', 'new', 'r...\n",
       "4     ['discord', 'ceo', 'hint', 'ethereum', 'compat...\n",
       "                            ...                        \n",
       "95    ['discord', 'may', 'soon', 'add', 'ethereum', ...\n",
       "96              ['ethereum', 'supply', 'could', 'drop']\n",
       "97    ['barry', 'sternlicht', 'invests', 'bitcoin', ...\n",
       "98    ['ckb', 'nervos', 'fly', 'compatibility', 'eth...\n",
       "99      ['first', 'bitcoin', 'etf', 'ethereum', 'next']\n",
       "Name: text_final, Length: 100, dtype: object"
      ]
     },
     "execution_count": 160,
     "metadata": {},
     "output_type": "execute_result"
    }
   ],
   "source": [
    "target_x"
   ]
  },
  {
   "cell_type": "code",
   "execution_count": 161,
   "id": "06eda592",
   "metadata": {},
   "outputs": [],
   "source": [
    "# TF-IDF(Term Frequency — Inverse Document Frequency)에 \n",
    "# text_final에 저장된 자연어처리된 단어들을 학습시킨다.\n",
    "Tfidf_vect_target = TfidfVectorizer(max_features=5000)\n",
    "Tfidf_vect_target.fit(headline['text_final'])\n",
    "\n",
    "Target_X_Tfidf = Tfidf_vect.transform(target_x)"
   ]
  },
  {
   "cell_type": "code",
   "execution_count": 162,
   "id": "d6a76542",
   "metadata": {},
   "outputs": [
    {
     "name": "stdout",
     "output_type": "stream",
     "text": [
      "{'ethereum': 160, 'google': 211, 'news': 311, 'bitcoin': 46, 'price': 344, 'jump': 244, 'new': 310, 'record': 354, 'cnn': 90, 'crypto': 110, 'prediction': 342, 'could': 106, 'lose': 264, 'crown': 109, 'even': 163, 'sudden': 417, 'surge': 421, 'toward': 442, 'forbes': 187, 'ether': 159, 'hit': 216, 'reason': 352, 'euronews': 161, 'discord': 136, 'ceo': 77, 'hint': 215, 'compatibility': 101, 'coindesk': 94, 'killer': 246, 'metaverse': 285, 'token': 438, 'see': 376, 'next': 315, 'millionaire': 288, 'maker': 274, 'nasdaq': 303, 'name': 302, 'already': 11, 'fully': 192, 'dilute': 135, 'cap': 71, 'cointelegraph': 97, 'defi': 130, 'gain': 198, 'chase': 81, 'high': 214, 'dogecoin': 139, 'monday': 292, 'motley': 296, 'fool': 186, 'classic': 85, 'shoot': 386, 'today': 436, 'benzinga': 39, 'facebook': 173, 'go': 210, 'meta': 284, 'competitor': 102, 'soar': 395, 'seven': 382, 'day': 124, 'reach': 350, 'market': 275, 'daily': 121, 'hodl': 217, 'neon': 307, 'lab': 250, 'developer': 134, 'evm': 167, 'solana': 397, 'raise': 347, 'million': 287, 'block': 49, 'stay': 407, 'strong': 415, 'test': 430, 'resistance': 361, 'near': 304, 'fx': 196, 'empire': 154, 'layer': 255, 'matter': 278, 'eth': 158, 'renew': 357, 'finance': 181, 'magnate': 269, 'newschannel': 313, 'keyt': 245, 'know': 249, 'curious': 118, 'case': 74, 'metric': 286, 'ambcrypto': 15, 'top': 440, 'strategist': 412, 'say': 374, 'one': 323, 'challenger': 80, 'look': 262, 'insanely': 230, 'bullish': 66, 'predict': 341, 'rally': 348, 'four': 189, 'rise': 365, 'interest': 231, 'nfts': 317, 'aithority': 6, 'gas': 202, 'fee': 177, 'drop': 145, 'drastically': 144, 'demand': 131, 'trend': 445, 'genesis': 204, 'set': 381, 'blockonomi': 52, 'polkadot': 339, 'etf': 157, 'europe': 162, 'outperform': 327, 'traditional': 443, 'reddit': 355, 'onboard': 322, 'user': 454, 'tokens': 439, 'cryptoslate': 114, 'cosmos': 105, 'ecosystem': 152, 'connect': 104, 'cronos': 108, 'mainnet': 271, 'beta': 41, 'launch': 254, 'coin': 92, 'rivet': 366, 'coinbase': 93, 'riot': 364, 'blockchain': 50, 'cleanspark': 86, 'stock': 411, 'spike': 402, 'run': 369, 'earnings': 149, 'buy': 68, 'centric': 76, 'swap': 422, 'cns': 91, 'polygon': 340, 'binance': 44, 'smart': 393, 'chain': 78, 'fantom': 175, 'wfmz': 470, 'allentown': 9, 'chris': 82, 'dixon': 138, 'paddy': 328, 'mccormick': 280, 'future': 195, 'economist': 151, 'project': 345, 'bring': 63, 'nft': 316, 'decentraland': 125, 'behind': 36, 'late': 253, 'cryptocurrency': 112, 'oakland': 320, 'world': 474, 'business': 67, 'watch': 466, 'cryptocurrencies': 111, 'also': 12, 'wion': 471, 'close': 88, 'tainsei': 425, 'japanese': 240, 'art': 23, 'collection': 98, 'soon': 399, 'available': 29, 'leader': 258, 'dot': 142, 'bnb': 54, 'past': 332, 'trillion': 447, 'courier': 107, 'mail': 270, 'data': 123, 'follow': 185, 'money': 294, 'ape': 20, 'give': 207, 'bank': 31, 'simple': 390, 'asset': 26, 'net': 309, 'newsledger': 314, 'best': 40, 'wallet': 464, 'spot': 404, 'canada': 70, 'bifrost': 42, 'biport': 45, 'open': 324, 'gateway': 203, 'true': 448, 'multichain': 297, 'zdnet': 480, 'loopring': 263, 'lrc': 265, 'nearly': 305, 'month': 295, 'gamestop': 201, 'gme': 209, 'rumor': 368, 'shacknews': 383, 'partner': 331, 'alchemy': 7, 'pay': 333, 'deploy': 132, 'fiat': 179, 'wrapped': 475, 'guide': 212, 'assess': 25, 'lack': 251, 'momentum': 291, 'completely': 103, 'fault': 176, 'jefferies': 241, 'wood': 472, 'allocation': 10, 'sell': 378, 'mint': 290, 'imining': 222, 'technology': 427, 'sponsor': 403, 'imin': 221, 'challenge': 79, 'blockhack': 51, 'global': 208, 'fund': 193, 'inflow': 228, 'billion': 43, 'smash': 394, 'origami': 326, 'rhino': 363, 'electric': 153, 'boogaloo': 56, 'sitepoint': 392, 'altcoin': 13, 'build': 65, 'earn': 148, 'support': 420, 'giant': 206, 'steal': 408, 'company': 100, 'infosecurity': 229, 'magazine': 267, 'amc': 16, 'weighs': 469, 'nod': 318, 'meme': 282, 'investor': 237, 'yahoo': 478, 'mining': 289, 'exchange': 169, 'bitmart': 48, 'seek': 377, 'valuation': 456, 'series': 379, 'funding': 194, 'round': 367, 'broker': 64, 'invest': 235, 'cvbj': 120, 'central': 75, 'valley': 455, 'journal': 242, 'startup': 406, 'lead': 257, 'icos': 220, 'flow': 183, 'stand': 405, 'benefit': 38, 'medium': 281, 'algorand': 8, 'cusp': 119, 'breakout': 60, 'investingcube': 236, 'telos': 428, 'avoid': 30, 'sale': 371, 'duke': 147, 'disrupting': 137, 'redefine': 356, 'research': 360, 'blog': 53, 'uma': 452, 'due': 146, 'protocol': 346, 'analyst': 18, 'issue': 239, 'warn': 465, 'altcoins': 14, 'get': 205, 'ready': 351, 'salt': 372, 'lake': 252, 'music': 298, 'academy': 1, 'accept': 2, 'donation': 141, 'abc': 0, 'value': 457, 'explain': 170, 'sun': 418, 'everything': 166, 'need': 306, 'indian': 226, 'express': 171, 'shiba': 385, 'inu': 234, 'beat': 34, 'cardano': 73, 'newsbtc': 312, 'filecoin': 180, 'symmetrical': 423, 'triangle': 446, 'point': 338, 'rebound': 353, 'bridge': 61, 'depot': 133, 'easy': 150, 'intuitive': 233, 'commentary': 99, 'vending': 459, 'time': 435, 'raydium': 349, 'serum': 380, 'prepare': 343, 'brave': 59, 'make': 273, 'default': 129, 'dapp': 122, 'cudos': 115, 'phase': 336, 'two': 451, 'buzz': 69, 'incentivised': 224, 'testnet': 431, 'artemis': 24, 'mercedes': 283, 'amg': 17, 'rental': 358, 'bonus': 55, 'way': 467, 'monetization': 293, 'curiodao': 117, 'work': 473, 'shopnext': 387, 'first': 182, 'ever': 164, 'platform': 337, 'coinspeaker': 96, 'knockoff': 248, 'strike': 414, 'major': 272, 'hover': 219, 'feed': 178, 'speak': 400, 'musk': 299, 'tweet': 450, 'sink': 391, 'tesla': 429, 'cryptos': 113, 'marketpulse': 276, 'hold': 218, 'total': 441, 'supply': 419, 'bitcoinist': 47, 'sam': 373, 'social': 396, 'massive': 277, 'briefing': 62, 'lbank': 256, 'weekly': 468, 'listing': 259, 'report': 359, 'november': 319, 'opensea': 325, 'extend': 172, 'dominance': 140, 'cumulative': 116, 'volume': 462, 'todayuknews': 437, 'thing': 434, 'capitol': 72, 'astroworld': 27, 'climate': 87, 'belarus': 37, 'kion': 247, 'magic': 268, 'box': 58, 'bore': 57, 'yacht': 477, 'club': 89, 'thecable': 432, 'frax': 190, 'share': 384, 'circulate': 83, 'lock': 261, 'vr': 463, 'soldier': 398, 'vechain': 458, 'vet': 460, 'rest': 362, 'banklesstimes': 32, 'saitama': 370, 'decentralization': 128, 'gamble': 199, 'industry': 227, 'help': 213, 'achieve': 3, 'full': 191, 'transparency': 444, 'lydian': 266, 'virtual': 461, 'game': 200, 'escrow': 156, 'decentralised': 127, 'excange': 168, 'decentralise': 126, 'everyone': 165, 'part': 330, 'success': 416, 'parachain': 329, 'auction': 28, 'schedule': 375, 'unveil': 453, 'entrepreneur': 155, 'naira': 300, 'fall': 174, 'official': 321, 'forex': 188, 'turnover': 449, 'nairametrics': 301, 'pdx': 335, 'introduce': 232, 'payment': 334, 'sidestep': 389, 'antiquated': 19, 'system': 424, 'steel': 409, 'active': 4, 'dow': 143, 'live': 260, 'thestreet': 433, 'xlm': 476, 'imminent': 223, 'technical': 426, 'show': 388, 'strength': 413, 'fxstreet': 197, 'yfi': 479, 'ark': 21, 'jpmorgan': 243, 'increasingly': 225, 'become': 35, 'zycrypto': 481, 'may': 279, 'add': 5, 'speculation': 401, 'coingape': 95, 'barry': 33, 'sternlicht': 410, 'invests': 238, 'ckb': 84, 'nervos': 308, 'fly': 184, 'arrive': 22}\n"
     ]
    }
   ],
   "source": [
    "# Tfidf_vect가 Corps의 text_final을 통해 학습한 단어\n",
    "print(Tfidf_vect_target.vocabulary_)"
   ]
  },
  {
   "cell_type": "code",
   "execution_count": 163,
   "id": "ac9feb4e",
   "metadata": {},
   "outputs": [
    {
     "name": "stdout",
     "output_type": "stream",
     "text": [
      "  (0, 2265)\t0.5598722901943177\n",
      "  (0, 1377)\t0.8285789151749937\n",
      "  (1, 2796)\t0.5346154585879205\n",
      "  (1, 2637)\t0.45494416823042466\n",
      "  (1, 2259)\t0.3962115208245034\n",
      "  (1, 1724)\t0.5918011034105028\n",
      "  (2, 3584)\t0.4379303614248742\n",
      "  (2, 3395)\t0.3544645247805835\n",
      "  (2, 2637)\t0.26393223567231444\n",
      "  (2, 1967)\t0.3544645247805835\n",
      "  (2, 1093)\t0.3769650188049277\n",
      "  (2, 772)\t0.41542986740053\n",
      "  (2, 750)\t0.41542986740053\n",
      "  (3, 2796)\t0.4331108737114239\n",
      "  (3, 2779)\t0.5801241668676873\n",
      "  (3, 2637)\t0.36856634619702405\n",
      "  (3, 2259)\t0.320984953207468\n",
      "  (3, 1491)\t0.4868248456625583\n",
      "  (4, 517)\t1.0\n",
      "  (5, 3060)\t0.48228570256331155\n",
      "  (5, 2270)\t0.508397844296958\n",
      "  (5, 2222)\t0.5964370836967795\n",
      "  (5, 2012)\t0.3914012496256238\n",
      "  (6, 2259)\t0.26748682941054847\n",
      "  (6, 2216)\t0.4648579475946764\n",
      "  :\t:\n",
      "  (92, 3474)\t0.5400440534570586\n",
      "  (92, 3333)\t0.5545386030398953\n",
      "  (92, 3129)\t0.5078096089024533\n",
      "  (92, 2637)\t0.37811209868313955\n",
      "  (93, 3562)\t0.5832033210741981\n",
      "  (93, 2637)\t0.5207359169044515\n",
      "  (93, 450)\t0.6234645067152625\n",
      "  (94, 1659)\t0.41928992523573144\n",
      "  (94, 1581)\t0.5073434285475571\n",
      "  (94, 441)\t0.48784697194126775\n",
      "  (94, 316)\t0.4079685290681454\n",
      "  (94, 147)\t0.4029461693118998\n",
      "  (95, 3391)\t0.3943609867828201\n",
      "  (95, 3221)\t0.535452626034773\n",
      "  (95, 2744)\t0.3863693211150247\n",
      "  (95, 2068)\t0.38270082035368147\n",
      "  (95, 517)\t0.35400967176629655\n",
      "  (95, 48)\t0.3697375819061392\n",
      "  (96, 3390)\t0.47420733323254083\n",
      "  (96, 949)\t0.5154765932551518\n",
      "  (96, 750)\t0.713730542231832\n",
      "  (98, 1253)\t0.6882233522366706\n",
      "  (98, 208)\t0.725498874868955\n",
      "  (99, 2270)\t0.84331791852949\n",
      "  (99, 1227)\t0.5374150056400439\n"
     ]
    }
   ],
   "source": [
    "# Train_X_Tfidf의 (행 인덱스, 고유숫자) TF-IDF에 의해 계산된 값\n",
    "# (해당 행에서의 해당 단어 빈도(TF) * log(해당단어가 존재하는 행 수/전체 Corpus의 행수)\n",
    "print(Target_X_Tfidf)"
   ]
  },
  {
   "cell_type": "code",
   "execution_count": 164,
   "id": "0d8dad79",
   "metadata": {},
   "outputs": [],
   "source": [
    "target_predictions_SVM = SVM.predict(Target_X_Tfidf)"
   ]
  },
  {
   "cell_type": "code",
   "execution_count": 165,
   "id": "6a1441eb",
   "metadata": {},
   "outputs": [
    {
     "name": "stdout",
     "output_type": "stream",
     "text": [
      "[1 1 1 1 1 1 1 1 1 1 1 1 1 1 1 1 1 0 1 1 1 0 1 1 1 1 1 1 1 1 1 1 1 1 1 1 1\n",
      " 0 0 1 1 1 1 0 1 1 1 1 1 0 1 1 1 1 1 1 1 1 1 1 1 0 1 1 1 1 1 1 1 1 1 1 1 1\n",
      " 1 1 1 1 1 1 1 1 1 1 1 1 1 1 1 1 1 1 1 1 1 1 0 1 1 1]\n"
     ]
    }
   ],
   "source": [
    "print(target_predictions_SVM)"
   ]
  },
  {
   "cell_type": "code",
   "execution_count": 166,
   "id": "5dce3623",
   "metadata": {},
   "outputs": [],
   "source": [
    "export_dataset = pd.read_csv (r'1109news_headline.csv', encoding='latin-1')"
   ]
  },
  {
   "cell_type": "code",
   "execution_count": 168,
   "id": "a8f1763d",
   "metadata": {},
   "outputs": [],
   "source": [
    "export_dataset['predicted_status'] = target_predictions_SVM"
   ]
  },
  {
   "cell_type": "code",
   "execution_count": 170,
   "id": "6bc7c68a",
   "metadata": {},
   "outputs": [
    {
     "data": {
      "text/html": [
       "<div>\n",
       "<style scoped>\n",
       "    .dataframe tbody tr th:only-of-type {\n",
       "        vertical-align: middle;\n",
       "    }\n",
       "\n",
       "    .dataframe tbody tr th {\n",
       "        vertical-align: top;\n",
       "    }\n",
       "\n",
       "    .dataframe thead th {\n",
       "        text-align: right;\n",
       "    }\n",
       "</style>\n",
       "<table border=\"1\" class=\"dataframe\">\n",
       "  <thead>\n",
       "    <tr style=\"text-align: right;\">\n",
       "      <th></th>\n",
       "      <th>Unnamed: 0</th>\n",
       "      <th>news_title</th>\n",
       "      <th>predicted_status</th>\n",
       "    </tr>\n",
       "  </thead>\n",
       "  <tbody>\n",
       "    <tr>\n",
       "      <th>0</th>\n",
       "      <td>0</td>\n",
       "      <td>\"Ethereum when:1d\" - Google News</td>\n",
       "      <td>1</td>\n",
       "    </tr>\n",
       "    <tr>\n",
       "      <th>1</th>\n",
       "      <td>1</td>\n",
       "      <td>Bitcoin and Ethereum prices jump to new record...</td>\n",
       "      <td>1</td>\n",
       "    </tr>\n",
       "    <tr>\n",
       "      <th>2</th>\n",
       "      <td>2</td>\n",
       "      <td>Crypto Price Prediction: Bitcoin Could Lose It...</td>\n",
       "      <td>1</td>\n",
       "    </tr>\n",
       "    <tr>\n",
       "      <th>3</th>\n",
       "      <td>3</td>\n",
       "      <td>Bitcoin, Ether prices hit new all-time records...</td>\n",
       "      <td>1</td>\n",
       "    </tr>\n",
       "    <tr>\n",
       "      <th>4</th>\n",
       "      <td>4</td>\n",
       "      <td>Discord CEO Hints at Ethereum Compatibility - ...</td>\n",
       "      <td>1</td>\n",
       "    </tr>\n",
       "    <tr>\n",
       "      <th>...</th>\n",
       "      <td>...</td>\n",
       "      <td>...</td>\n",
       "      <td>...</td>\n",
       "    </tr>\n",
       "    <tr>\n",
       "      <th>95</th>\n",
       "      <td>95</td>\n",
       "      <td>Discord May Soon Add Ethereum (ETH) Support, T...</td>\n",
       "      <td>1</td>\n",
       "    </tr>\n",
       "    <tr>\n",
       "      <th>96</th>\n",
       "      <td>96</td>\n",
       "      <td>Ethereum 2.0: supply could drop by 1% - D1Soft...</td>\n",
       "      <td>0</td>\n",
       "    </tr>\n",
       "    <tr>\n",
       "      <th>97</th>\n",
       "      <td>97</td>\n",
       "      <td>Barry Sternlicht invests in Bitcoin and Ethere...</td>\n",
       "      <td>1</td>\n",
       "    </tr>\n",
       "    <tr>\n",
       "      <th>98</th>\n",
       "      <td>98</td>\n",
       "      <td>$ CKB of Nervos flies | Compatibility with the...</td>\n",
       "      <td>1</td>\n",
       "    </tr>\n",
       "    <tr>\n",
       "      <th>99</th>\n",
       "      <td>99</td>\n",
       "      <td>After the first Bitcoin ETF, will Ethereum be ...</td>\n",
       "      <td>1</td>\n",
       "    </tr>\n",
       "  </tbody>\n",
       "</table>\n",
       "<p>100 rows × 3 columns</p>\n",
       "</div>"
      ],
      "text/plain": [
       "    Unnamed: 0                                         news_title  \\\n",
       "0            0                   \"Ethereum when:1d\" - Google News   \n",
       "1            1  Bitcoin and Ethereum prices jump to new record...   \n",
       "2            2  Crypto Price Prediction: Bitcoin Could Lose It...   \n",
       "3            3  Bitcoin, Ether prices hit new all-time records...   \n",
       "4            4  Discord CEO Hints at Ethereum Compatibility - ...   \n",
       "..         ...                                                ...   \n",
       "95          95  Discord May Soon Add Ethereum (ETH) Support, T...   \n",
       "96          96  Ethereum 2.0: supply could drop by 1% - D1Soft...   \n",
       "97          97  Barry Sternlicht invests in Bitcoin and Ethere...   \n",
       "98          98  $ CKB of Nervos flies | Compatibility with the...   \n",
       "99          99  After the first Bitcoin ETF, will Ethereum be ...   \n",
       "\n",
       "    predicted_status  \n",
       "0                  1  \n",
       "1                  1  \n",
       "2                  1  \n",
       "3                  1  \n",
       "4                  1  \n",
       "..               ...  \n",
       "95                 1  \n",
       "96                 0  \n",
       "97                 1  \n",
       "98                 1  \n",
       "99                 1  \n",
       "\n",
       "[100 rows x 3 columns]"
      ]
     },
     "execution_count": 170,
     "metadata": {},
     "output_type": "execute_result"
    }
   ],
   "source": [
    "export_dataset"
   ]
  }
 ],
 "metadata": {
  "kernelspec": {
   "display_name": "Python 3",
   "language": "python",
   "name": "python3"
  },
  "language_info": {
   "codemirror_mode": {
    "name": "ipython",
    "version": 3
   },
   "file_extension": ".py",
   "mimetype": "text/x-python",
   "name": "python",
   "nbconvert_exporter": "python",
   "pygments_lexer": "ipython3",
   "version": "3.8.8"
  }
 },
 "nbformat": 4,
 "nbformat_minor": 5
}
